{
  "nbformat": 4,
  "nbformat_minor": 0,
  "metadata": {
    "kernelspec": {
      "name": "python3",
      "display_name": "Python 3"
    },
    "language_info": {
      "codemirror_mode": {
        "name": "ipython",
        "version": 3
      },
      "file_extension": ".py",
      "mimetype": "text/x-python",
      "name": "python",
      "nbconvert_exporter": "python",
      "pygments_lexer": "ipython3",
      "version": "3.5.7"
    },
    "colab": {
      "name": "DQN_project_MVA_jed_houas.ipynb",
      "provenance": [],
      "collapsed_sections": [],
      "include_colab_link": true
    },
    "accelerator": "GPU"
  },
  "cells": [
    {
      "cell_type": "markdown",
      "metadata": {
        "id": "view-in-github",
        "colab_type": "text"
      },
      "source": [
        "<a href=\"https://colab.research.google.com/github/jedhouas/Mini-projet_Deep_Reinforcement_Learning/blob/master/DQN_project_MVA_jed_houas.ipynb\" target=\"_parent\"><img src=\"https://colab.research.google.com/assets/colab-badge.svg\" alt=\"Open In Colab\"/></a>"
      ]
    },
    {
      "cell_type": "markdown",
      "metadata": {
        "id": "IoCjt7QovoFM",
        "colab_type": "text"
      },
      "source": [
        "**You may need to install [OpenCV](https://pypi.python.org/pypi/opencv-python) and [scikit-video](http://www.scikit-video.org/stable/).**"
      ]
    },
    {
      "cell_type": "code",
      "metadata": {
        "id": "JPVg3a393ndj",
        "colab_type": "code",
        "outputId": "f2da7660-3a04-41b8-9d8b-7408d918d0f1",
        "colab": {
          "base_uri": "https://localhost:8080/",
          "height": 87
        }
      },
      "source": [
        "!pip install sk-video"
      ],
      "execution_count": 70,
      "outputs": [
        {
          "output_type": "stream",
          "text": [
            "Requirement already satisfied: sk-video in /usr/local/lib/python3.6/dist-packages (1.1.10)\n",
            "Requirement already satisfied: scipy in /usr/local/lib/python3.6/dist-packages (from sk-video) (1.4.1)\n",
            "Requirement already satisfied: numpy in /usr/local/lib/python3.6/dist-packages (from sk-video) (1.17.5)\n"
          ],
          "name": "stdout"
        }
      ]
    },
    {
      "cell_type": "code",
      "metadata": {
        "id": "aR_f94dJvoFR",
        "colab_type": "code",
        "colab": {}
      },
      "source": [
        "import keras\n",
        "import numpy as np\n",
        "import io\n",
        "import base64\n",
        "from IPython.display import HTML\n",
        "import skvideo.io\n",
        "import cv2\n",
        "import json\n",
        "\n",
        "from keras.models import Sequential,model_from_json\n",
        "from keras.layers.core import Dense\n",
        "from keras.optimizers import sgd, adam\n",
        "from keras.layers import Conv2D, MaxPooling2D, Activation, AveragePooling2D,Reshape,BatchNormalization, Flatten"
      ],
      "execution_count": 0,
      "outputs": []
    },
    {
      "cell_type": "markdown",
      "metadata": {
        "id": "30uJJibTvoFe",
        "colab_type": "text"
      },
      "source": [
        "# MiniProject on Deep Reinforcement Learning"
      ]
    },
    {
      "cell_type": "markdown",
      "metadata": {
        "id": "GxHoYiWXvoFj",
        "colab_type": "text"
      },
      "source": [
        "__Notations__: $E_p$ is the expectation under probability $p$. Please justify each of your answer and widely comment your code."
      ]
    },
    {
      "cell_type": "markdown",
      "metadata": {
        "id": "YHLLuEFkvoFm",
        "colab_type": "text"
      },
      "source": [
        "# Context"
      ]
    },
    {
      "cell_type": "markdown",
      "metadata": {
        "id": "PYPU2rAvvoFo",
        "colab_type": "text"
      },
      "source": [
        "In a reinforcement learning algorithm, we modelize each step $t$ as an action $a_t$ obtained from a state $s_t$, i.e. $\\{(a_{t},s_{t})_{t\\leq T}\\}$ having the Markov property. We consider a discount factor $\\gamma \\in [0,1]$ that ensures convergence. The goal is to find among all the policies $\\pi$, one that maximizes the expected reward:\n",
        "\n",
        "\\begin{equation*}\n",
        "R(\\pi)=\\sum_{t\\leq T}E_{p^{\\pi}}[\\gamma^t r(s_{t},a_{t})] \\> ,\n",
        "\\end{equation*}\n",
        "\n",
        "where: \n",
        "\\begin{equation*}p^{\\pi}(a_{0},a_{1},s_{1},...,a_{T},s_{T})=p(a_{0})\\prod_{t=1}^{T}\\pi(a_{t}|s_{t})p(s_{t+1}|s_{t},a_{t}) \\> .\n",
        "\\end{equation*}\n",
        "\n",
        "We note the $Q$-function:\n",
        "\n",
        "\\begin{equation*}Q^\\pi(s,a)=E_{p^{\\pi}}[\\sum_{t\\leq T}\\gamma^{t}r(s_{t},a_{t})|s_{0}=s,a_{0}=a] \\> .\n",
        "\\end{equation*}\n",
        "\n",
        "Thus, the optimal Q function is:\n",
        "\\begin{equation*}\n",
        "Q^*(s,a)=\\max_{\\pi}Q^\\pi(s,a) \\> .\n",
        "\\end{equation*}\n",
        "\n",
        "In this project, we will apply the deep reinforcement learning techniques to a simple game: an agent will have to learn from scratch a policy that will permit it maximizing a reward."
      ]
    },
    {
      "cell_type": "markdown",
      "metadata": {
        "id": "gTG6o-7pvoFr",
        "colab_type": "text"
      },
      "source": [
        "## The environment, the agent and the game"
      ]
    },
    {
      "cell_type": "markdown",
      "metadata": {
        "id": "51yKyMP6voFt",
        "colab_type": "text"
      },
      "source": [
        "### The environment"
      ]
    },
    {
      "cell_type": "markdown",
      "metadata": {
        "id": "QacfSat4voFx",
        "colab_type": "text"
      },
      "source": [
        "```Environment``` is an abstract class that represents the states, rewards, and actions to obtain the new state."
      ]
    },
    {
      "cell_type": "code",
      "metadata": {
        "id": "52LB7xPfvoFz",
        "colab_type": "code",
        "colab": {}
      },
      "source": [
        "class Environment(object):\n",
        "    def __init__(self):\n",
        "        pass\n",
        "\n",
        "    def act(self, act):\n",
        "        \"\"\"\n",
        "        One can act on the environment and obtain its reaction:\n",
        "        - the new state\n",
        "        - the reward of the new state\n",
        "        - should we continue the game?\n",
        "\n",
        "        :return: state, reward, game_over\n",
        "        \"\"\"\n",
        "        pass\n",
        "\n",
        "\n",
        "    def reset(self):\n",
        "        \"\"\"\n",
        "        Reinitialize the environment to a random state and returns\n",
        "        the original state\n",
        "\n",
        "        :return: state\n",
        "        \"\"\"\n",
        "        pass\n",
        "    \n",
        "    def draw(self):\n",
        "        \"\"\"\n",
        "        Visualize in the console or graphically the current state\n",
        "        \"\"\"\n",
        "        pass"
      ],
      "execution_count": 0,
      "outputs": []
    },
    {
      "cell_type": "markdown",
      "metadata": {
        "id": "m0KtSZ6ZvoF7",
        "colab_type": "text"
      },
      "source": [
        "The method ```act``` allows to act on the environment at a given state $s_t$ (stored internally), via action $a_t$. The method will return the new state $s_{t+1}$, the reward $r(s_{t},a_{t})$ and determines if $t\\leq T$ (*game_over*).\n",
        "\n",
        "The method ```reset``` simply reinitializes the environment to a random state $s_0$.\n",
        "\n",
        "The method ```draw``` displays the current state $s_t$ (this is useful to check the behavior of the Agent).\n",
        "\n",
        "We modelize $s_t$ as a tensor, while $a_t$ is an integer."
      ]
    },
    {
      "cell_type": "markdown",
      "metadata": {
        "id": "7JxxTRN0voF9",
        "colab_type": "text"
      },
      "source": [
        "### The Agent"
      ]
    },
    {
      "cell_type": "markdown",
      "metadata": {
        "id": "5f1YtoHJvoGA",
        "colab_type": "text"
      },
      "source": [
        "The goal of the ```Agent``` is to interact with the ```Environment``` by proposing actions $a_t$ obtained from a given state $s_t$ to attempt to maximize its __reward__ $r(s_t,a_t)$. We propose the following abstract class:"
      ]
    },
    {
      "cell_type": "code",
      "metadata": {
        "id": "jMIdGwtkvoGE",
        "colab_type": "code",
        "colab": {}
      },
      "source": [
        "class Agent(object):\n",
        "  def __init__(self, epsilon=0.1, n_action=4):\n",
        "      self.epsilon = epsilon\n",
        "      self.n_action = n_action\n",
        "  \n",
        "  def set_epsilon(self,e):\n",
        "      self.epsilon = e\n",
        "\n",
        "  def act(self,s,train=True):\n",
        "      \"\"\" This function should return the next action to do:\n",
        "      an integer between 0 and 4 (not included) with a random exploration of epsilon\"\"\"\n",
        "      if train:\n",
        "          if np.random.rand() <= self.epsilon:\n",
        "              a = np.random.randint(0, self.n_action, size=1)[0]\n",
        "          else:\n",
        "              a = self.learned_act(s)\n",
        "      else: # in some cases, this can improve the performance.. remove it if poor performances\n",
        "          a = self.learned_act(s)\n",
        "\n",
        "      return a\n",
        "\n",
        "  def learned_act(self,s):\n",
        "      \"\"\" Act via the policy of the agent, from a given state s\n",
        "      it proposes an action a\"\"\"\n",
        "      pass\n",
        "\n",
        "  def reinforce(self, s, n_s, a, r, game_over_):\n",
        "      \"\"\" This function is the core of the learning algorithm. \n",
        "      It takes as an input the current state s_, the next state n_s_\n",
        "      the action a_ used to move from s_ to n_s_ and the reward r_.\n",
        "      \n",
        "      Its goal is to learn a policy.\n",
        "      \"\"\"\n",
        "      pass\n",
        "\n",
        "  def save(self):\n",
        "      \"\"\" This function returns basic stats if applicable: the\n",
        "      loss and/or the model\"\"\"\n",
        "      pass\n",
        "\n",
        "  def load(self):\n",
        "      \"\"\" This function allows to restore a model\"\"\"\n",
        "      pass"
      ],
      "execution_count": 0,
      "outputs": []
    },
    {
      "cell_type": "markdown",
      "metadata": {
        "id": "CdaongxYvoGS",
        "colab_type": "text"
      },
      "source": [
        "***\n",
        "__Question 1__:\n",
        "Explain the function act. Why is ```epsilon``` essential?"
      ]
    },
    {
      "cell_type": "markdown",
      "metadata": {
        "id": "iWozfP6KvoGX",
        "colab_type": "text"
      },
      "source": [
        "The **act** function returns what action the agent will perform knowing the current state. As defined in the code above, this action is following an $\\epsilon$-greedy policy: with a probability $\\epsilon$ we explore (choose randomly an action) and with $1 - \\epsilon$ we act based on what we have learned on all the previous cumulated knowledge.\n",
        "$$\n",
        "\\pi(s) = \\begin{cases}\n",
        "\\max_a Q(s,a) & \\text{w.p.} 1- \\epsilon\\\\\n",
        "\\text{random action} & \\text{w.p.} \\epsilon\n",
        "\\end{cases}\n",
        "$$\n",
        "**Epsilon** is essential to add **exploration** to the behavior of the agent: if he acts greedily no exploration will be performed if it causes a lower reward and so we won't be able to explore the environnement which is eessential to learn an optimal policy."
      ]
    },
    {
      "cell_type": "markdown",
      "metadata": {
        "id": "tUdNfaGEvoGa",
        "colab_type": "text"
      },
      "source": [
        "***\n",
        "### The Game"
      ]
    },
    {
      "cell_type": "markdown",
      "metadata": {
        "id": "98ixU2fzvoGf",
        "colab_type": "text"
      },
      "source": [
        "The ```Agent``` and the ```Environment``` work in an interlaced way as in the following (take some time to understand this code as it is the core of the project)\n",
        "\n",
        "```python\n",
        "\n",
        "epoch = 300\n",
        "env = Environment()\n",
        "agent = Agent()\n",
        "\n",
        "\n",
        "# Number of won games\n",
        "score = 0\n",
        "loss = 0\n",
        "\n",
        "\n",
        "for e in range(epoch):\n",
        "    # At each epoch, we restart to a fresh game and get the initial state\n",
        "    state = env.reset()\n",
        "    # This assumes that the games will end\n",
        "    game_over = False\n",
        "\n",
        "    win = 0\n",
        "    lose = 0\n",
        "    \n",
        "    while not game_over:\n",
        "        # The agent performs an action\n",
        "        action = agent.act(state)\n",
        "\n",
        "        # Apply an action to the environment, get the next state, the reward\n",
        "        # and if the games end\n",
        "        prev_state = state\n",
        "        state, reward, game_over = env.act(action)\n",
        "\n",
        "        # Update the counters\n",
        "        if reward > 0:\n",
        "            win = win + reward\n",
        "        if reward < 0:\n",
        "            lose = lose -reward\n",
        "\n",
        "        # Apply the reinforcement strategy\n",
        "        loss = agent.reinforce(prev_state, state,  action, reward, game_over)\n",
        "\n",
        "    # Save as a mp4\n",
        "    if e % 10 == 0:\n",
        "        env.draw(e)\n",
        "\n",
        "    # Update stats\n",
        "    score += win-lose\n",
        "\n",
        "    print(\"Epoch {:03d}/{:03d} | Loss {:.4f} | Win/lose count {}/{} ({})\"\n",
        "          .format(e, epoch, loss, win, lose, win-lose))\n",
        "    agent.save()\n",
        "```"
      ]
    },
    {
      "cell_type": "markdown",
      "metadata": {
        "id": "mZzKuVWVvoGg",
        "colab_type": "text"
      },
      "source": [
        "# The game, *eat cheese*"
      ]
    },
    {
      "cell_type": "markdown",
      "metadata": {
        "id": "eS0wV3OQvoGi",
        "colab_type": "text"
      },
      "source": [
        "A rat runs on an island and tries to eat as much as possible. The island is subdivided into $N\\times N$ cells, in which there are cheese (+0.5) and poisonous cells (-1). The rat has a visibility of 2 cells (thus it can see $5^2$ cells). The rat is given a time $T$ to accumulate as much food as possible. It can perform 4 actions: going up, down, left, right. \n",
        "\n",
        "The goal is to code an agent to solve this task that will learn by trial and error. We propose the following environment:"
      ]
    },
    {
      "cell_type": "code",
      "metadata": {
        "id": "aRG2TUdXvoGk",
        "colab_type": "code",
        "colab": {}
      },
      "source": [
        "class Environment(object):\n",
        "    def __init__(self, grid_size=10, max_time=500, temperature=0.1):\n",
        "        grid_size = grid_size+4\n",
        "        self.grid_size = grid_size\n",
        "        self.max_time = max_time\n",
        "        self.temperature = temperature\n",
        "\n",
        "        #board on which one plays\n",
        "        self.board = np.zeros((grid_size,grid_size))\n",
        "        self.position = np.zeros((grid_size,grid_size))\n",
        "\n",
        "        # coordinate of the cat\n",
        "        self.x = 0\n",
        "        self.y = 1\n",
        "\n",
        "        # self time\n",
        "        self.t = 0\n",
        "\n",
        "        self.scale=16\n",
        "\n",
        "        self.to_draw = np.zeros((max_time+2, grid_size*self.scale, grid_size*self.scale, 3))\n",
        "\n",
        "\n",
        "    def draw(self,e):\n",
        "        skvideo.io.vwrite(str(e) + '.mp4', self.to_draw)\n",
        "\n",
        "    def get_frame(self,t):\n",
        "        b = np.zeros((self.grid_size,self.grid_size,3))+128\n",
        "        b[self.board>0,0] = 256\n",
        "        b[self.board < 0, 2] = 256\n",
        "        b[self.x,self.y,:]=256\n",
        "        b[-2:,:,:]=0\n",
        "        b[:,-2:,:]=0\n",
        "        b[:2,:,:]=0\n",
        "        b[:,:2,:]=0\n",
        "        \n",
        "        b =  cv2.resize(b, None, fx=self.scale, fy=self.scale, interpolation=cv2.INTER_NEAREST)\n",
        "\n",
        "        self.to_draw[t,:,:,:]=b\n",
        "\n",
        "\n",
        "    def act(self, action):\n",
        "        \"\"\"This function returns the new state, reward and decides if the\n",
        "        game ends.\"\"\"\n",
        "\n",
        "        self.get_frame(int(self.t))\n",
        "\n",
        "        self.position = np.zeros((self.grid_size, self.grid_size))\n",
        "\n",
        "        self.position[0:2,:]= -1\n",
        "        self.position[:,0:2] = -1\n",
        "        self.position[-2:, :] = -1\n",
        "        self.position[-2:, :] = -1\n",
        "\n",
        "        self.position[self.x, self.y] = 1\n",
        "        if action == 0:\n",
        "            if self.x == self.grid_size-3:\n",
        "                self.x = self.x-1\n",
        "            else:\n",
        "                self.x = self.x + 1\n",
        "        elif action == 1:\n",
        "            if self.x == 2:\n",
        "                self.x = self.x+1\n",
        "            else:\n",
        "                self.x = self.x-1\n",
        "        elif action == 2:\n",
        "            if self.y == self.grid_size - 3:\n",
        "                self.y = self.y - 1\n",
        "            else:\n",
        "                self.y = self.y + 1\n",
        "        elif action == 3:\n",
        "            if self.y == 2:\n",
        "                self.y = self.y + 1\n",
        "            else:\n",
        "                self.y = self.y - 1\n",
        "        else:\n",
        "            RuntimeError('Error: action not recognized')\n",
        "\n",
        "        self.t = self.t + 1\n",
        "        reward = self.board[self.x, self.y]\n",
        "        self.board[self.x, self.y] = 0\n",
        "        game_over = self.t > self.max_time\n",
        "        state = np.concatenate((self.board.reshape(self.grid_size, self.grid_size,1),\n",
        "                        self.position.reshape(self.grid_size, self.grid_size,1)),axis=2)\n",
        "        state = state[self.x-2:self.x+3,self.y-2:self.y+3,:]\n",
        "\n",
        "        return state, reward, game_over\n",
        "\n",
        "    def reset(self):\n",
        "        \"\"\"This function resets the game and returns the initial state\"\"\"\n",
        "\n",
        "        self.x = np.random.randint(3, self.grid_size-3, size=1)[0]\n",
        "        self.y = np.random.randint(3, self.grid_size-3, size=1)[0]\n",
        "\n",
        "\n",
        "        bonus = 0.5*np.random.binomial(1,self.temperature,size=self.grid_size**2)\n",
        "        bonus = bonus.reshape(self.grid_size,self.grid_size)\n",
        "\n",
        "        malus = -1.0*np.random.binomial(1,self.temperature,size=self.grid_size**2)\n",
        "        malus = malus.reshape(self.grid_size, self.grid_size)\n",
        "\n",
        "        self.to_draw = np.zeros((self.max_time+2, self.grid_size*self.scale, self.grid_size*self.scale, 3))\n",
        "\n",
        "\n",
        "        malus[bonus>0]=0\n",
        "\n",
        "        self.board = bonus + malus\n",
        "\n",
        "        self.position = np.zeros((self.grid_size, self.grid_size))\n",
        "        self.position[0:2,:]= -1\n",
        "        self.position[:,0:2] = -1\n",
        "        self.position[-2:, :] = -1\n",
        "        self.position[-2:, :] = -1\n",
        "        self.board[self.x,self.y] = 0\n",
        "        self.t = 0\n",
        "\n",
        "        state = np.concatenate((\n",
        "                               self.board.reshape(self.grid_size, self.grid_size,1),\n",
        "                        self.position.reshape(self.grid_size, self.grid_size,1)),axis=2)\n",
        "\n",
        "        state = state[self.x - 2:self.x + 3, self.y - 2:self.y + 3, :]\n",
        "        return state"
      ],
      "execution_count": 0,
      "outputs": []
    },
    {
      "cell_type": "markdown",
      "metadata": {
        "id": "kg88DP17voGv",
        "colab_type": "text"
      },
      "source": [
        "The following elements are important because they correspond to the hyper parameters for this project:"
      ]
    },
    {
      "cell_type": "code",
      "metadata": {
        "id": "iB11v2tXvoGx",
        "colab_type": "code",
        "colab": {}
      },
      "source": [
        "# parameters\n",
        "size = 13\n",
        "T=200\n",
        "temperature=0.3\n",
        "epochs_train=40 # set small when debugging\n",
        "epochs_test=10 # set small when debugging\n",
        "\n",
        "# display videos\n",
        "def display_videos(name):\n",
        "    video = io.open(name, 'r+b').read()\n",
        "    encoded = base64.b64encode(video)\n",
        "    return '''<video alt=\"test\" controls>\n",
        "                <source src=\"data:video/mp4;base64,{0}\" type=\"video/mp4\" />\n",
        "             </video>'''.format(encoded.decode('ascii'))"
      ],
      "execution_count": 0,
      "outputs": []
    },
    {
      "cell_type": "markdown",
      "metadata": {
        "id": "wT-wAHcJvoHF",
        "colab_type": "text"
      },
      "source": [
        "__Question 2__ Explain the use of the arrays ```position``` and ```board```."
      ]
    },
    {
      "cell_type": "markdown",
      "metadata": {
        "id": "0Ftdh6oPvoHH",
        "colab_type": "text"
      },
      "source": [
        " \n",
        "\n",
        "*   The **position** array contains an array representing where the rat can go. It has -1 in the boundaries where we can't go, 0 where we can go and 1 in the position where the rat is actually at.\n",
        "*   The **board** array represents the reward associated to each cell of the grid. If the rat comes to the position $(x,y)$ it will get the reward $board[x,y]$."
      ]
    },
    {
      "cell_type": "markdown",
      "metadata": {
        "id": "FYnBIK_UvoHL",
        "colab_type": "text"
      },
      "source": [
        "## Random Agent"
      ]
    },
    {
      "cell_type": "markdown",
      "metadata": {
        "id": "mcYCTlWJvoHM",
        "colab_type": "text"
      },
      "source": [
        "***\n",
        "__Question 3__ Implement a random Agent (only ```learned_act``` needs to be implemented):"
      ]
    },
    {
      "cell_type": "code",
      "metadata": {
        "id": "zQxNKLJYvoHO",
        "colab_type": "code",
        "colab": {}
      },
      "source": [
        "class RandomAgent(Agent):\n",
        "  def __init__(self):\n",
        "      super(RandomAgent, self).__init__()\n",
        "      \n",
        "  def learned_act(self, s):\n",
        "      return np.random.randint(0,self.n_action)"
      ],
      "execution_count": 0,
      "outputs": []
    },
    {
      "cell_type": "markdown",
      "metadata": {
        "id": "3PXAaZMHvoHU",
        "colab_type": "text"
      },
      "source": [
        "***\n",
        "***\n",
        "__Question 4__ Visualize the game moves. You need to fill in the following function for the evaluation:"
      ]
    },
    {
      "cell_type": "code",
      "metadata": {
        "id": "T0Apeiz2voHV",
        "colab_type": "code",
        "colab": {}
      },
      "source": [
        "def test(agent,env,epochs,prefix=''):\n",
        "    # Number of won games\n",
        "    score = 0\n",
        " \n",
        "    for e in range(epochs):\n",
        "        \n",
        "        state = env.reset()\n",
        "        # This assumes that the games will end\n",
        "        game_over = False\n",
        "\n",
        "        win = 0\n",
        "        lose = 0\n",
        "        \n",
        "        \n",
        "        while not game_over:\n",
        "            \n",
        "            action = agent.act(state,train=False) #this is the main point, during the test phase we don't have to use the epsilon greedy approach\n",
        "            \n",
        "            prev_state= state\n",
        "            state,reward,game_over = env.act(action)\n",
        "            if reward >0:\n",
        "                win = win +reward \n",
        "            if reward < 0:\n",
        "                lose = lose-reward\n",
        "                \n",
        "        # Save as a mp4\n",
        "        env.draw(prefix+str(e))\n",
        "\n",
        "        # Update stats\n",
        "        score = score + win-lose\n",
        "\n",
        "        print(\"Win/lose count {}/{}. Average score ({})\"\n",
        "              .format(win, lose, score/(1+e)))\n",
        "    print('Final score: '+str(score/epochs))"
      ],
      "execution_count": 0,
      "outputs": []
    },
    {
      "cell_type": "code",
      "metadata": {
        "id": "iz3iCWICvoHa",
        "colab_type": "code",
        "outputId": "8ef44045-e0ea-4e38-d8a2-e6a4b003dabe",
        "colab": {
          "base_uri": "https://localhost:8080/",
          "height": 373
        }
      },
      "source": [
        "# Initialize the game\n",
        "env = Environment(grid_size=size, max_time=T,temperature=temperature)\n",
        "\n",
        "# Initialize the agent!\n",
        "agent = RandomAgent()\n",
        "\n",
        "test(agent,env,epochs_test,prefix='random')\n",
        "HTML(display_videos('random0.mp4'))"
      ],
      "execution_count": 79,
      "outputs": [
        {
          "output_type": "stream",
          "text": [
            "Win/lose count 6.5/15.0. Average score (-8.5)\n",
            "Win/lose count 5.5/15.0. Average score (-9.0)\n",
            "Win/lose count 16.0/10.0. Average score (-4.0)\n",
            "Win/lose count 9.5/6.0. Average score (-2.125)\n",
            "Win/lose count 10.0/15.0. Average score (-2.7)\n",
            "Win/lose count 12.0/17.0. Average score (-3.0833333333333335)\n",
            "Win/lose count 8.0/11.0. Average score (-3.0714285714285716)\n",
            "Win/lose count 13.0/17.0. Average score (-3.1875)\n",
            "Win/lose count 8.5/17.0. Average score (-3.7777777777777777)\n",
            "Win/lose count 8.5/16.0. Average score (-4.15)\n",
            "Final score: -4.15\n"
          ],
          "name": "stdout"
        },
        {
          "output_type": "execute_result",
          "data": {
            "text/html": [
              "<video alt=\"test\" controls>\n",
              "                <source src=\"data:video/mp4;base64,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\" type=\"video/mp4\" />\n",
              "             </video>"
            ],
            "text/plain": [
              "<IPython.core.display.HTML object>"
            ]
          },
          "metadata": {
            "tags": []
          },
          "execution_count": 79
        }
      ]
    },
    {
      "cell_type": "markdown",
      "metadata": {
        "id": "IVESocx_voHk",
        "colab_type": "text"
      },
      "source": [
        "***\n",
        "## DQN"
      ]
    },
    {
      "cell_type": "markdown",
      "metadata": {
        "id": "p6xSTyjevoHn",
        "colab_type": "text"
      },
      "source": [
        "Let us assume here that $T=\\infty$.\n",
        "\n",
        "***\n",
        "__Question 5__ Let $\\pi$ be a policy, show that:\n",
        "\n",
        "\\begin{equation*}\n",
        "Q^{\\pi}(s,a)=E_{(s',a')\\sim p(.|s,a)}[r(s,a)+\\gamma Q^{\\pi}(s',a')]\n",
        "\\end{equation*}\n",
        "\n",
        "Then, show that for the optimal policy $\\pi^*$ (we assume its existence), the following holds: \n",
        "\n",
        "\\begin{equation*}\n",
        "Q^{*}(s,a)=E_{s'\\sim \\pi^*(.|s,a)}[r(s,a)+\\gamma\\max_{a'}Q^{*}(s',a')].\n",
        "\\end{equation*}\n",
        "Finally, deduce that a plausible objective is:\n",
        "\n",
        "\\begin{equation*}\n",
        "\\mathcal{L}(\\theta)=E_{s' \\sim \\pi^*(.|s,a)}\\Vert r+\\gamma\\max\\max_{a'}Q(s',a',\\theta)-Q(s,a,\\theta)\\Vert^{2}.\n",
        "\\end{equation*}\n",
        "\n",
        "\n"
      ]
    },
    {
      "cell_type": "markdown",
      "metadata": {
        "id": "PF5XRrGDvoHp",
        "colab_type": "text"
      },
      "source": [
        "#### First for the Bellman equation:\n",
        "\n",
        "\\begin{align*}\n",
        "Q^\\pi(s,a)&=E_{p^{\\pi}}[\\sum_{0\\leq t}\\gamma^{t}r(s_{t},a_{t})|s_{0}=s,a_{0}=a,a_t=\\pi(s_t)].\\\\\n",
        "&=E_{p^{\\pi}}[r(s,a)+\\gamma \\sum_{1\\leq t}\\gamma^{t-1}r(s_{t},a_{t})]|s_{0}=s,a_{0}=a,a_t=\\pi(s_t)] \\\\\n",
        "&=E_{p^{\\pi}}[r(s,a)+\\gamma \\sum_{0\\leq t}\\gamma^{t}r(s_{t+1},a_{t+1})]|s_{0}=s,a_{0}=a,a_t=\\pi(s_t)] \\\\\n",
        "&=E_{p^{\\pi}}[r(s,a)+\\gamma \\sum_{s',a'}\\left( p(s1=s',a1=a') E[ \\sum_{0\\leq t}\\gamma^{t}r(s_{t+1},a_{t+1})]|s_{1}=s',a_{1}=a',a_t=\\pi(s_t)] \\right)|s_{0}=s,a_{0}=a,a_t=\\pi(s_t)] \\\\\n",
        "&=r(s,a)+\\gamma \\sum_{s',a'}\\left( p(s_1=s',a_1=a'|s_{0}=s,a_{0}=a) E[ \\sum_{0\\leq t}\\gamma^{t}r(s_{t+1},a_{t+1})]|s_{1}=s',a_{1}=a',a_t=\\pi(s_t)] \\right) \\\\\n",
        "&=r(s,a)+\\gamma \\sum_{s',a'} p(s_1=s',a_1=a'|s_{0}=s,a_{0}=a) Q^\\pi(s',a') \\\\\n",
        "&=E_{(s',a')\\sim p(.|s,a)}[r(s,a)+\\gamma Q^{\\pi}(s',a')]\n",
        "\\end{align*}"
      ]
    },
    {
      "cell_type": "markdown",
      "metadata": {
        "id": "DDjA9434J-rA",
        "colab_type": "text"
      },
      "source": [
        "#### As for the Bellman optimal equation:\n",
        "\\begin{align*}\n",
        "Q^{*}(s,a) &= \\max_{\\pi}E_{(s',a')\\sim p(.|s,a)}[r(s,a)+\\gamma Q^{\\pi}(s',a')] \\\\\n",
        "&= \\max_{\\pi}r(s,a) + \\gamma \\sum_{(s',a')}(p(s_{1}=s',a_{1}=a' |s_0 = s, a_0 = a )Q^{\\pi}(s',a')\\\\\n",
        "&= r(s,a) + \\gamma \\max_{\\pi} \\sum_{(s',a')}(p(s_{1}=s',a_{1}=a' |s_0 = s, a_0 = a )Q^{\\pi}(s',a') \\\\\n",
        "&= r(s,a) + \\gamma \\sum_{s'}(p(s_{1}=s'|s_0 = s, a_0 = a )\\max_{(a',\\pi')} Q^{\\pi'}(s',a') \\\\\n",
        "&= r(s,a) + \\gamma \\sum(p(s_{t+1}=s' |s_t = s, a_t = a )\\max_{a'} Q^{*}(s',a') \\\\ \n",
        "&=E_{s'\\sim \\pi^*(.|s,a)}[r(s,a)+\\gamma\\max_{a'}Q^{*}(s',a')].\n",
        "\\end{align*}"
      ]
    },
    {
      "cell_type": "markdown",
      "metadata": {
        "id": "2ID30V7CKNei",
        "colab_type": "text"
      },
      "source": [
        "The proposed objective function is plausible because it enforces this last equation we wrote (the Bellman optimal equation): in fact $E_{s' \\sim \\pi^*(.|s,a)}\\Vert r+\\gamma\\max\\max_{a'}Q(s',a',\\theta)-Q(s,a,\\theta)\\Vert^{2}$ is the distance between the two quantities of this equation."
      ]
    },
    {
      "cell_type": "markdown",
      "metadata": {
        "id": "k6rfPMWyvoHq",
        "colab_type": "text"
      },
      "source": [
        "***\n",
        "The DQN-learning algorithm relies on these derivations to train the parameters $\\theta$ of a Deep Neural Network:\n",
        "\n",
        "1. At the state $s_t$, select the action $a_t$ with best reward using $Q_t$ and store the results;\n",
        "\n",
        "2. Obtain the new state $s_{t+1}$ from the environment $p$;\n",
        "\n",
        "3. Store $(s_t,a_t,s_{t+1})$;\n",
        "\n",
        "4. Obtain $Q_{t+1}$ by minimizing  $\\mathcal{L}$ from a recovered batch from the previously stored results.\n",
        "\n",
        "***\n",
        "__Question 6__ Implement the class ```Memory``` that stores moves (in a replay buffer) via ```remember``` and provides a ```random_access``` to these. Specify a maximum memory size to avoid side effects. You can for example use a ```list()``` and set by default ```max_memory=100```."
      ]
    },
    {
      "cell_type": "code",
      "metadata": {
        "id": "mGyVpMDCvoHr",
        "colab_type": "code",
        "colab": {}
      },
      "source": [
        "class Memory(object):\n",
        "    def __init__(self, max_memory=100):\n",
        "        self.max_memory = max_memory\n",
        "        self.memory = list()\n",
        "\n",
        "    def remember(self, m):\n",
        "        self.memory.append(m)\n",
        "        if len(self.memory)>self.max_memory:\n",
        "            del self.memory[0]\n",
        "\n",
        "    def random_access(self):\n",
        "        return self.memory[np.random.randint(0, len(self.memory), size=1)[0]]"
      ],
      "execution_count": 0,
      "outputs": []
    },
    {
      "cell_type": "markdown",
      "metadata": {
        "id": "UFklVKoRvoHu",
        "colab_type": "text"
      },
      "source": [
        "***\n",
        "The pipeline we will use for training is given below:"
      ]
    },
    {
      "cell_type": "code",
      "metadata": {
        "id": "CyjT4pGqvoHw",
        "colab_type": "code",
        "colab": {}
      },
      "source": [
        "def train(agent,env,epoch,prefix=''):\n",
        "    # Number of won games\n",
        "    score = 0\n",
        "    loss = 0\n",
        "\n",
        "    for e in range(epoch):\n",
        "        # At each epoch, we restart to a fresh game and get the initial state\n",
        "        state = env.reset()\n",
        "        # This assumes that the games will terminate\n",
        "        game_over = False\n",
        "\n",
        "        win = 0\n",
        "        lose = 0\n",
        "\n",
        "        while not game_over:\n",
        "            # The agent performs an action\n",
        "            action = agent.act(state)\n",
        "\n",
        "            # Apply an action to the environment, get the next state, the reward\n",
        "            # and if the games end\n",
        "            prev_state = state\n",
        "            state, reward, game_over = env.act(action)\n",
        "\n",
        "            # Update the counters\n",
        "            if reward > 0:\n",
        "                win = win + reward\n",
        "            if reward < 0:\n",
        "                lose = lose -reward\n",
        "\n",
        "            # Apply the reinforcement strategy\n",
        "            loss = agent.reinforce(prev_state, state,  action, reward, game_over)\n",
        "\n",
        "        # Save as a mp4\n",
        "        if e % 10 == 0:\n",
        "            env.draw(prefix+str(e))\n",
        "\n",
        "        # Update stats\n",
        "        score += win-lose\n",
        "\n",
        "        print(\"Epoch {:03d}/{:03d} | Loss {:.4f} | Win/lose count {}/{} ({})\"\n",
        "              .format(e, epoch, loss, win, lose, win-lose))\n",
        "        agent.save(name_weights=prefix+'model.h5',name_model=prefix+'model.json')"
      ],
      "execution_count": 0,
      "outputs": []
    },
    {
      "cell_type": "markdown",
      "metadata": {
        "id": "zexJ-bKEvoH0",
        "colab_type": "text"
      },
      "source": [
        "***\n",
        "__Question 7__ Implement the DQN training algorithm using a cascade of fully connected layers. You can use different learning rate, batch size or memory size parameters. In particular, the loss might oscillate while the player will start to win the games. You have to find a good criterium."
      ]
    },
    {
      "cell_type": "code",
      "metadata": {
        "id": "F_zEvH-mvoH5",
        "colab_type": "code",
        "colab": {}
      },
      "source": [
        "class DQN(Agent):\n",
        "    def __init__(self, grid_size,  epsilon = 0.1, memory_size=100, batch_size = 16,n_state=2):\n",
        "        super(DQN, self).__init__(epsilon = epsilon)\n",
        "\n",
        "        # Discount for Q learning\n",
        "        self.discount = 0.99\n",
        "        \n",
        "        self.grid_size = grid_size\n",
        "        \n",
        "        # number of state\n",
        "        self.n_state = n_state\n",
        "\n",
        "        # Memory\n",
        "        self.memory = Memory(memory_size)\n",
        "        \n",
        "        # Batch size when learning\n",
        "        self.batch_size = batch_size\n",
        "\n",
        "    def learned_act(self, s):\n",
        "        return np.argmax(self.model.predict(s.reshape([1,s.shape[0],s.shape[1],s.shape[2]]))[0,:])\n",
        "\n",
        "    def reinforce(self, s_, n_s_, a_, r_, game_over_):\n",
        "        # Two steps: first memorize the states, second learn from the pool\n",
        "        # Improve the prediction where we do have new information\n",
        "        \n",
        "        self.memory.remember([s_, n_s_, a_, r_, game_over_])\n",
        "        input_states = np.zeros((self.batch_size, 5,5,self.n_state))\n",
        "        target_q = np.zeros((self.batch_size, 4))\n",
        "        \n",
        "        for i in range(self.batch_size):\n",
        "            s_, n_s_, a_, r_, game_over_  = self.memory.random_access()\n",
        "            \n",
        "            target_q[i] =self.model.predict(s_.reshape([1,s_.shape[0],s_.shape[1],s_.shape[2]]))[0]\n",
        "      \n",
        "            if game_over_:\n",
        "                input_states[i] = s_\n",
        "                target_q[i,a_] = r_\n",
        "            else:\n",
        "                input_states[i] = s_\n",
        "                target_q[i,a_] = r_  + self.discount*max(self.model.predict(n_s_.reshape([1,s_.shape[0],s_.shape[1],s_.shape[2]]))[0])\n",
        "        # HINT: Clip the target to avoid exploiding gradients.. -- clipping is a bit tighter\n",
        "        target_q = np.clip(target_q, -3, 3)\n",
        "        l = self.model.train_on_batch(input_states, target_q)\n",
        "\n",
        "\n",
        "        return l\n",
        "\n",
        "    def save(self,name_weights='model.h5',name_model='model.json'):\n",
        "        self.model.save_weights(name_weights, overwrite=True)\n",
        "        with open(name_model, \"w\") as outfile:\n",
        "            json.dump(self.model.to_json(), outfile)\n",
        "            \n",
        "    def load(self,name_weights='model.h5',name_model='model.json'):\n",
        "        with open(name_model, \"r\") as jfile:\n",
        "            model = model_from_json(json.load(jfile))\n",
        "        model.load_weights(name_weights)\n",
        "        model.compile(\"sgd\", \"mse\")\n",
        "        self.model = model\n",
        "            \n",
        "class DQN_FC_1L(DQN):\n",
        "    def __init__(self, *args, lr=0.1,**kwargs):\n",
        "        super(DQN_FC_1L, self).__init__( *args,**kwargs)\n",
        "        \n",
        "        # NN Model: One hidden layer\n",
        "        model = Sequential()\n",
        "        model.add(Flatten(input_shape=(5,5,self.n_state,)))\n",
        "        model.add(Dense(30,activation ='relu'))\n",
        "        model.add(Dense(4, activation = None))\n",
        "        \n",
        "        model.compile(sgd(lr=lr, decay=1e-4, momentum=0.0), \"mse\")\n",
        "        self.model = model\n",
        "\n",
        "class DQN_FC_5L(DQN):\n",
        "    def __init__(self, *args, lr=0.1,**kwargs):\n",
        "        super(DQN_FC_5L, self).__init__( *args,**kwargs)\n",
        "        \n",
        "        # NN Model: Five hidden layers\n",
        "        model = Sequential()\n",
        "        model.add(Flatten(input_shape=(5,5,self.n_state,)))\n",
        "        model.add(Dense(32,activation ='relu'))\n",
        "        model.add(BatchNormalization())\n",
        "        model.add(Dense(24,activation ='relu'))\n",
        "        model.add(BatchNormalization())\n",
        "        model.add(Dense(16,activation ='relu'))\n",
        "        model.add(BatchNormalization())\n",
        "        model.add(Dense(8,activation ='relu'))\n",
        "        model.add(BatchNormalization())\n",
        "        model.add(Dense(4, activation = None))\n",
        "        \n",
        "        model.compile(sgd(lr=lr, decay=1e-4, momentum=0.0), \"mse\")\n",
        "        self.model = model\n",
        "        "
      ],
      "execution_count": 0,
      "outputs": []
    },
    {
      "cell_type": "code",
      "metadata": {
        "id": "Vsw-8aXQvoIE",
        "colab_type": "code",
        "outputId": "17fe3ee5-db80-4d11-fe55-4bdc64a58d0c",
        "colab": {
          "base_uri": "https://localhost:8080/",
          "height": 853
        }
      },
      "source": [
        "# Testing the One layer model with lr of 0.1\n",
        "env = Environment(grid_size=size, max_time=T, temperature=0.3)\n",
        "agent = DQN_FC_1L(size, lr=.1, epsilon = 0.1, memory_size=2000, batch_size = 32)\n",
        "train(agent, env, epochs_train, prefix='fc_train_best')\n",
        "HTML(display_videos('fc_train_best10.mp4'))"
      ],
      "execution_count": 0,
      "outputs": [
        {
          "output_type": "stream",
          "text": [
            "Epoch 000/040 | Loss 0.0117 | Win/lose count 4.0/4.0 (0.0)\n",
            "Epoch 001/040 | Loss 0.0131 | Win/lose count 3.0/3.0 (0.0)\n",
            "Epoch 002/040 | Loss 0.0082 | Win/lose count 3.5/3.0 (0.5)\n",
            "Epoch 003/040 | Loss 0.0545 | Win/lose count 3.5/4.0 (-0.5)\n",
            "Epoch 004/040 | Loss 0.0059 | Win/lose count 5.5/1.0 (4.5)\n",
            "Epoch 005/040 | Loss 0.0080 | Win/lose count 2.5/1.0 (1.5)\n",
            "Epoch 006/040 | Loss 0.0050 | Win/lose count 3.5/1.0 (2.5)\n",
            "Epoch 007/040 | Loss 0.0014 | Win/lose count 3.5/2.0 (1.5)\n",
            "Epoch 008/040 | Loss 0.0050 | Win/lose count 1.0/1.0 (0.0)\n",
            "Epoch 009/040 | Loss 0.0031 | Win/lose count 5.0/4.0 (1.0)\n",
            "Epoch 010/040 | Loss 0.0021 | Win/lose count 3.0/1.0 (2.0)\n",
            "Epoch 011/040 | Loss 0.0063 | Win/lose count 5.0/2.0 (3.0)\n",
            "Epoch 012/040 | Loss 0.0044 | Win/lose count 3.5/6.0 (-2.5)\n",
            "Epoch 013/040 | Loss 0.0030 | Win/lose count 1.5/2.0 (-0.5)\n",
            "Epoch 014/040 | Loss 0.0089 | Win/lose count 1.5/6.0 (-4.5)\n",
            "Epoch 015/040 | Loss 0.0159 | Win/lose count 5.0/5.0 (0.0)\n",
            "Epoch 016/040 | Loss 0.0098 | Win/lose count 6.0/4.0 (2.0)\n",
            "Epoch 017/040 | Loss 0.0028 | Win/lose count 3.0/1.0 (2.0)\n",
            "Epoch 018/040 | Loss 0.0127 | Win/lose count 3.5/2.0 (1.5)\n",
            "Epoch 019/040 | Loss 0.0066 | Win/lose count 7.5/2.0 (5.5)\n",
            "Epoch 020/040 | Loss 0.0067 | Win/lose count 2.0/2.0 (0.0)\n",
            "Epoch 021/040 | Loss 0.0064 | Win/lose count 6.5/1.0 (5.5)\n",
            "Epoch 022/040 | Loss 0.0129 | Win/lose count 3.0/2.0 (1.0)\n",
            "Epoch 023/040 | Loss 0.0048 | Win/lose count 4.0/0 (4.0)\n",
            "Epoch 024/040 | Loss 0.0022 | Win/lose count 1.5/2.0 (-0.5)\n",
            "Epoch 025/040 | Loss 0.0134 | Win/lose count 4.0/1.0 (3.0)\n",
            "Epoch 026/040 | Loss 0.0062 | Win/lose count 6.0/1.0 (5.0)\n",
            "Epoch 027/040 | Loss 0.0017 | Win/lose count 4.5/1.0 (3.5)\n",
            "Epoch 028/040 | Loss 0.0117 | Win/lose count 5.5/1.0 (4.5)\n",
            "Epoch 029/040 | Loss 0.0041 | Win/lose count 5.0/2.0 (3.0)\n",
            "Epoch 030/040 | Loss 0.0098 | Win/lose count 5.0/2.0 (3.0)\n",
            "Epoch 031/040 | Loss 0.0038 | Win/lose count 9.5/3.0 (6.5)\n",
            "Epoch 032/040 | Loss 0.0069 | Win/lose count 3.0/2.0 (1.0)\n",
            "Epoch 033/040 | Loss 0.0032 | Win/lose count 2.0/0 (2.0)\n",
            "Epoch 034/040 | Loss 0.0580 | Win/lose count 6.5/1.0 (5.5)\n",
            "Epoch 035/040 | Loss 0.0051 | Win/lose count 7.0/3.0 (4.0)\n",
            "Epoch 036/040 | Loss 0.0064 | Win/lose count 5.0/4.0 (1.0)\n",
            "Epoch 037/040 | Loss 0.0031 | Win/lose count 9.5/2.0 (7.5)\n",
            "Epoch 038/040 | Loss 0.0465 | Win/lose count 3.5/4.0 (-0.5)\n",
            "Epoch 039/040 | Loss 0.0080 | Win/lose count 3.0/2.0 (1.0)\n"
          ],
          "name": "stdout"
        },
        {
          "output_type": "execute_result",
          "data": {
            "text/html": [
              "<video alt=\"test\" controls>\n",
              "                <source src=\"data:video/mp4;base64,AAAAIGZ0eXBpc29tAAACAGlzb21pc28yYXZjMW1wNDEAAAAIZnJlZQAAFnxtZGF0AAACrQYF//+p3EXpvebZSLeWLNgg2SPu73gyNjQgLSBjb3JlIDE1MiByMjg1NCBlOWE1OTAzIC0gSC4yNjQvTVBFRy00IEFWQyBjb2RlYyAtIENvcHlsZWZ0IDIwMDMtMjAxNyAtIGh0dHA6Ly93d3cudmlkZW9sYW4ub3JnL3gyNjQuaHRtbCAtIG9wdGlvbnM6IGNhYmFjPTEgcmVmPTMgZGVibG9jaz0xOjA6MCBhbmFseXNlPTB4MToweDExMSBtZT1oZXggc3VibWU9NyBwc3k9MSBwc3lfcmQ9MS4wMDowLjAwIG1peGVkX3JlZj0xIG1lX3JhbmdlPTE2IGNocm9tYV9tZT0xIHRyZWxsaXM9MSA4eDhkY3Q9MCBjcW09MCBkZWFkem9uZT0yMSwxMSBmYXN0X3Bza2lwPTEgY2hyb21hX3FwX29mZnNldD00IHRocmVhZHM9MyBsb29rYWhlYWRfdGhyZWFkcz0xIHNsaWNlZF90aHJlYWRzPTAgbnI9MCBkZWNpbWF0ZT0xIGludGVybGFjZWQ9MCBibHVyYXlfY29tcGF0PTAgY29uc3RyYWluZWRfaW50cmE9MCBiZnJhbWVzPTMgYl9weXJhbWlkPTIgYl9hZGFwdD0xIGJfYmlhcz0wIGRpcmVjdD0xIHdlaWdodGI9MSBvcGVuX2dvcD0wIHdlaWdodHA9MiBrZXlpbnQ9MjUwIGtleWludF9taW49MjUgc2NlbmVjdXQ9NDAgaW50cmFfcmVmcmVzaD0wIHJjX2xvb2thaGVhZD00MCByYz1jcmYgbWJ0cmVlPTEgY3JmPTIzLjAgcWNvbXA9MC42MCBxcG1pbj0wIHFwbWF4PTY5IHFwc3RlcD00IGlwX3JhdGlvPTEuNDAgYXE9MToxLjAwAIAAAAMlZYiEADf//vaH+BTZWBP+Wb/9DX/cj9uPrP1xYyEE31qvIejAGS+1H+b/rFFs6Z6UB/fgCJQAc24ZwpJw4v/ApLdW+BTLYTnGrzD8eNPwpbJHJ82/txDY9n9CGDFLmgFl/i8AjmdzIKfcZBTayKKdNqsKEPkXgbVAWgYRvyA8tRIfUjIVouXN9x+bU02xc239U6IWMGHE/HUf3sU/OjpTBI9PzpPc7E2nvegWNdTcBhSKff2Uwzg4irEralB+ejXjF+ckadRS1aWub/FUc4yeDro6I2nI9moqGdwGWnNXSRQL/6F37VB27ekl7JAdKJPK5W4MSnIKLUoiZ/LONoGkXk/XnJ5hAFDcbNXo5s+AFnyhUyICzJqMfxRKOhUuIehCQXeZtOen4+noDploTOmSpeVM/OfwiDn4HMv4x1JYEWT3gEYkgSeSGkWUc7dOa8N6GltXFWTxXjUsHV1inaOagkZuTRfv/W/Qupt4P2yqdOzkLeO5LdlXxqSSJw0MtRKO2T3truEx/+9NjHMovaydQb6IOvv+yqhQZlRaKqb5KTuRIBrV3wni0F1Q/QjiNJCUvswJNXXcj5waY+gyaC9gcjtuHPtK+2VXInQ6XmTrcA0VmZLz8QGBFIfm8tpG08R6YlF0rkjEHtQKSXXh1Ey+MobqM835o5bwQBRNhOG2OwfeKJhCgD0VxlM5tHzEjlm3BEw4e3eZLqMWmgAjtfwAWbY50RY3V8+6S219DkMqHKf0PD73yCp5VoBNsO4sca2GbiLFtV5jTGexRACqR6AHXE7q6UWDw6f/+NYHJb4+y6NIbvPS8sRudCDns6A1jUeoQKRgePjgbg3FGKK4bdfdxDLi+HVh+eM8GLA+pUtE5FYyIy8bSusWUbCPZ1bEMW63xXiVXOoFSnR3x4L2z+pN2iK88t2gyMaIthzTDmMTW/tlZli6mFXG83ta8S0paQX7GUJGZVDmHswABP/gkMfSvH5aW3eHAlI42FzIIzRaq3Sbo3fq0eQKwC7TyHBrdJuj4BaIWM9w/h6q5BVGKCSxt+m8ptBwFe5ZSAW0eR3yoDOXgAAP2QAAACNBmiNsQz/+nhAAfL2R1eZZYwqfmWTBwHmVvyLa892fbZaj4AAAABBBnkF4hX8AGmkzgDG87K6FAAAAEAGeYmpCvwAaZ1TyYHr3hYAAAAAYQZpkSahBaJlMCGf//p4QAH69ca6rgpH9AAAAGEGahUnhClJlMCGf/p4QAMjIY5/DnN9aiwAAABhBmqZJ4Q6JlMCGf/6eEADNr7jQum+63j0AAAAYQZrHSeEPJlMCGf/+nhABPeDHP4c5vrPpAAAAGEGa6EnhDyZTAhn//p4QAUavcaF033W5bAAAABhBmwlJ4Q8mUwIb//6nhAB+zjP9SkAqfSAAAAAXQZsqSeEPJlMCG//+p4QAftOYkIBBXg8AAAAdQZtMSeEPJlMFETw3//6nhAC94rZif6u3up+1avgAAAAQAZ9rakK/AJ8o0TImlZtnwAAAABlBm21J4Q8mUwId//6plgCUIsN0YhHPr+DhAAAAK0GbkUnhDyZTAh3//qmWAUzsN8yytU1XgUokC8Cma5Xz8E//tpi6Gln7SbkAAAAWQZ+vRRE8L/8BJs+6Wcn7tWvbFUN8wQAAAA8Bn850Qr8A+EUmN6gjWWUAAAAQAZ/QakK/AZN2pbhs2pjGgAAAABNBm9VJqEFomUwId//+qZYAAJWBAAAADEGf80URLC//AACygAAAABIBnhJ0Qr8Bk3k5vv3bsTizwYAAAAARAZ4UakK/AZLGTB6CZp5MTwcAAAATQZoZSahBbJlMCHf//qmWAACVgAAAAAxBnjdFFSwv/wAAsoEAAAARAZ5WdEK/AZKYhr4Rag5CG2sAAAARAZ5YakK/AZLGTB6CZp5MTwYAAAATQZpdSahBbJlMCHf//qmWAACVgQAAAAxBnntFFSwv/wAAsoAAAAARAZ6adEK/AZKYhr4Rag5CG2sAAAARAZ6cakK/AZLGTB6CZp5MTwcAAAATQZqBSahBbJlMCHf//qmWAACVgAAAAAxBnr9FFSwv/wAAsoAAAAARAZ7edEK/AZKYhr4Rag5CG2sAAAARAZ7AakK/AZLGTB6CZp5MTwYAAAATQZrFSahBbJlMCHf//qmWAACVgQAAAAxBnuNFFSwv/wAAsoAAAAARAZ8CdEK/AZKYhr4Rag5CG2sAAAARAZ8EakK/AZLGTB6CZp5MTwcAAAATQZsJSahBbJlMCHf//qmWAACVgQAAABVBnydFFSwv/wEm2yxXUwo+brE2wYEAAAAPAZ9GdEK/AZMA+KTbJVEHAAAAEAGfSGpCvwGTdqW4bNqYxoAAAAATQZtNSahBbJlMCHf//qmWAACVgQAAAAxBn2tFFSwv/wAAsoAAAAARAZ+KdEK/AZKYhr4Rag5CG2oAAAARAZ+MakK/AZLGTB6CZp5MTwcAAAATQZuRSahBbJlMCHf//qmWAACVgQAAABVBn69FFSwv/wEm2yxXUwo+brE2wYEAAAAPAZ/OdEK/AZMA+KTbJVEHAAAAEAGf0GpCvwGTdqW4bNqYxoAAAAAZQZvUSahBbJlMCHf//qmWAUeXOrEKcNzZgQAAAA9Bn/JFFSwr/wGTJazSv8AAAAANAZ4TakK/AZOxYeKV/gAAABNBmhhJqEFsmUwId//+qZYAAJWBAAAADEGeNkUVLC//AACygAAAABABnlV0Qr8A+1SO/AB9untBAAAAEAGeV2pCvwGTSti9ZDcjbUEAAAATQZpcSahBbJlMCHf//qmWAACVgAAAAAxBnnpFFSwv/wAAsoEAAAAQAZ6ZdEK/AZOyrusBZ0ngwAAAABABnptqQr8Bk0rYvWQ3I21BAAAAE0GagEmoQWyZTAh3//6plgAAlYEAAAAMQZ6+RRUsL/8AALKAAAAAEAGe3XRCvwGTsq7rAWdJ4MAAAAAQAZ7fakK/AZNK2L1kNyNtQQAAABNBmsRJqEFsmUwId//+qZYAAJWAAAAADEGe4kUVLC//AACygQAAABABnwF0Qr8Bk7Ku6wFnSeDAAAAAEAGfA2pCvwGTSti9ZDcjbUEAAAATQZsISahBbJlMCHf//qmWAACVgQAAAAxBnyZFFSwv/wAAsoEAAAAQAZ9FdEK/AZOyrusBZ0ngwQAAABABn0dqQr8Bk0rYvWQ3I21AAAAAE0GbTEmoQWyZTAh3//6plgAAlYAAAAAMQZ9qRRUsL/8AALKBAAAAEAGfiXRCvwGTsq7rAWdJ4MAAAAAQAZ+LakK/AZNK2L1kNyNtQAAAABNBm5BJqEFsmUwId//+qZYAAJWBAAAADEGfrkUVLC//AACygQAAABABn810Qr8Bk7Ku6wFnSeDBAAAADwGfz2pCvwD7VI3WerPSbgAAABNBm9RJqEFsmUwId//+qZYAAJWAAAAADEGf8kUVLC//AACygQAAABABnhF0Qr8Bk7Ku6wFnSeDAAAAAEAGeE2pCvwGTSti9ZDcjbUAAAAATQZoYSahBbJlMCHf//qmWAACVgQAAAAxBnjZFFSwv/wAAsoAAAAAQAZ5VdEK/AZOyrusBZ0ngwQAAABABnldqQr8Bk0rYvWQ3I21BAAAAE0GaXEmoQWyZTAh3//6plgAAlYAAAAAMQZ56RRUsL/8AALKBAAAAEAGemXRCvwGTsq7rAWdJ4MAAAAAQAZ6bakK/AZNK2L1kNyNtQQAAABNBmoBJqEFsmUwId//+qZYAAJWBAAAADEGevkUVLC//AACygAAAABABnt10Qr8Bk7Ku6wFnSeDAAAAAEAGe32pCvwGTSti9ZDcjbUEAAAAaQZrDSahBbJlMCHf//qmWAUdpCTa0hj7dNmAAAAAPQZ7hRRUsK/8BkyWs0r/BAAAADQGfAmpCvwGTsWHilf4AAAAaQZsHSahBbJlMCHf//qmWBtJZXH7948+SU9MAAAAVQZ8lRRUsL/8CAdwvv1xslqcSUlbBAAAAEAGfRHRCvwKR02Y7FmJoKSEAAAAQAZ9GakK/Aq80bzS61k1qQQAAABlBm0tJqEFsmUwId//+qZYF4xvB+jH5XBSQAAAAEEGfaUUVLC//Aen71+Q0UUAAAAAQAZ+IdEK/ApHTZjsWYmgpIQAAAA8Bn4pqQr8CkjVzFf3UrYAAAAATQZuPSahBbJlMCHf//qmWAACVgAAAAAxBn61FFSwv/wAAsoEAAAAQAZ/MdEK/AoNi3XcA+3BWwQAAABABn85qQr8Cg2Lda/H24K2BAAAAE0Gb00moQWyZTAh3//6plgAAlYAAAAAMQZ/xRRUsL/8AALKAAAAAEAGeEHRCvwKDYt13APtwVsEAAAAQAZ4SakK/AoNi3Wvx9uCtgAAAABNBmhdJqEFsmUwId//+qZYAAJWAAAAADEGeNUUVLC//AACygQAAABABnlR0Qr8Cg2LddwD7cFbAAAAAEAGeVmpCvwKDYt1r8fbgrYEAAAATQZpbSahBbJlMCHf//qmWAACVgQAAAAxBnnlFFSwv/wAAsoAAAAAQAZ6YdEK/AoNi3XcA+3BWwQAAABABnppqQr8Cg2Lda/H24K2AAAAAE0Gan0moQWyZTAh3//6plgAAlYEAAAAMQZ69RRUsL/8AALKBAAAAEAGe3HRCvwKDYt13APtwVsAAAAAQAZ7eakK/AoNi3Wvx9uCtgAAAAB1BmsFJqEFsmUwUTDv//qmWBh9HPt0gdEC3F44YEQAAABABnuBqQr8CkFgqm+kgrDKgAAAAEkGa5UnhClJlMCHf/qmWAACVgQAAABNBnwNFNEwv/wEm9BBNzfrkNB00AAAADwGfInRCvwGTAPik2yVRBwAAABABnyRqQr8Bk3VPJgevbM+BAAAAE0GbKUmoQWiZTAh3//6plgAAlYEAAAAMQZ9HRREsL/8AALKBAAAAEAGfZnRCvwGOzk78AH26UUAAAAAQAZ9oakK/AY7OTvZ4+3SigAAAABNBm21JqEFsmUwId//+qZYAAJWBAAAADEGfi0UVLC//AACygAAAABABn6p0Qr8Bjs5O/AB9ulFAAAAAEAGfrGpCvwGOzk72ePt0ooEAAAATQZuxSahBbJlMCHf//qmWAACVgQAAAAxBn89FFSwv/wAAsoEAAAAQAZ/udEK/AY7OTvwAfbpRQAAAABABn/BqQr8Bjs5O9nj7dKKAAAAAEkGb9UmoQWyZTAhv//6nhAABJwAAAAxBnhNFFSwv/wAAsoAAAAAQAZ4ydEK/AY7OTvwAfbpRQAAAABABnjRqQr8Bjs5O9nj7dKKBAAAAHEGaNkmoQWyZTAh3//6plgFM7agH9/Jwg3E0H+AAAAASQZpaSeEKUmUwId/+qZYAAJWBAAAADEGeeEU0TC//AACygQAAABABnpd0Qr8A+1SO/AB9untAAAAAEAGemWpCvwD7VI72ePt09oEAAAATQZqeSahBaJlMCHf//qmWAACVgAAAAAxBnrxFESwv/wAAsoEAAAAQAZ7bdEK/AZOyrusBZ0ngwQAAABABnt1qQr8Bk0rYvWQ3I21AAAAAE0GawkmoQWyZTAh3//6plgAAlYAAAAAMQZ7gRRUsL/8AALKBAAAAEAGfH3RCvwGTsq7rAWdJ4MAAAAAQAZ8BakK/AZNK2L1kNyNtQQAAABNBmwZJqEFsmUwId//+qZYAAJWAAAAADEGfJEUVLC//AACygQAAABABn0N0Qr8Bk7Ku6wFnSeDBAAAAEAGfRWpCvwGTSti9ZDcjbUEAAAATQZtKSahBbJlMCHf//qmWAACVgQAAAAxBn2hFFSwv/wAAsoAAAAAQAZ+HdEK/AZOyrusBZ0ngwAAAABABn4lqQr8Bk0rYvWQ3I21BAAAAE0GbjkmoQWyZTAh3//6plgAAlYAAAAAMQZ+sRRUsL/8AALKAAAAAEAGfy3RCvwGTsq7rAWdJ4MEAAAAQAZ/NakK/AZNK2L1kNyNtQQAAABNBm9JJqEFsmUwId//+qZYAAJWBAAAADEGf8EUVLC//AACygAAAABABng90Qr8Bk7Ku6wFnSeDAAAAAEAGeEWpCvwD7VI72ePt09oEAAAATQZoWSahBbJlMCHf//qmWAACVgAAAAAxBnjRFFSwv/wAAsoAAAAAQAZ5TdEK/AZOyrusBZ0ngwQAAABABnlVqQr8Bk0rYvWQ3I21AAAAAE0GaWkmoQWyZTAh3//6plgAAlYEAAAAMQZ54RRUsL/8AALKBAAAAEAGel3RCvwGTsq7rAWdJ4MAAAAAQAZ6ZakK/AZNK2L1kNyNtQQAAABNBmp5JqEFsmUwId//+qZYAAJWAAAAADEGevEUVLC//AACygQAAABABntt0Qr8Bk7Ku6wFnSeDBAAAAEAGe3WpCvwGTSti9ZDcjbUAAAAASQZrCSahBbJlMCG///qeEAAEnAAAADEGe4EUVLC//AACygQAAABABnx90Qr8Bk7Ku6wFnSeDAAAAAEAGfAWpCvwGTSti9ZDcjbUEAAAAZQZsFSahBbJlMCGf//p4QCYYMc/S5vfBbBgAAAA9BnyNFFSwr/wGTJazSv8EAAAANAZ9EakK/AZOxYeKV/wAAABpBm0lLqEIQWyRGCCgH8gH9h4AhX/44QAARcQAAACNBn2dFFSwv/wIB3OpL2zMKuYDoGrWoXAlAGWiTwt8ykzScMQAAABABn4Z0Qr8CsEAc/YFuLI2AAAAAIwGfiGpCvwKvY+1BxN2qw0lBh+pkm8zD1kB9roChLrbbsCymAAAMOG1vb3YAAABsbXZoZAAAAAAAAAAAAAAAAAAAA+gAAB+QAAEAAAEAAAAAAAAAAAAAAAABAAAAAAAAAAAAAAAAAAAAAQAAAAAAAAAAAAAAAAAAQAAAAAAAAAAAAAAAAAAAAAAAAAAAAAAAAAAAAAAAAAIAAAtidHJhawAAAFx0a2hkAAAAAwAAAAAAAAAAAAAAAQAAAAAAAB+QAAAAAAAAAAAAAAAAAAAAAAABAAAAAAAAAAAAAAAAAAAAAQAAAAAAAAAAAAAAAAAAQAAAAAEQAAABEAAAAAAAJGVkdHMAAAAcZWxzdAAAAAAAAAABAAAfkAAABAAAAQAAAAAK2m1kaWEAAAAgbWRoZAAAAAAAAAAAAAAAAAAAMgAAAZQAVcQAAAAAAC1oZGxyAAAAAAAAAAB2aWRlAAAAAAAAAAAAAAAAVmlkZW9IYW5kbGVyAAAACoVtaW5mAAAAFHZtaGQAAAABAAAAAAAAAAAAAAAkZGluZgAAABxkcmVmAAAAAAAAAAEAAAAMdXJsIAAAAAEAAApFc3RibAAAAJVzdHNkAAAAAAAAAAEAAACFYXZjMQAAAAAAAAABAAAAAAAAAAAAAAAAAAAAAAEQARAASAAAAEgAAAAAAAAAAQAAAAAAAAAAAAAAAAAAAAAAAAAAAAAAAAAAAAAAAAAAABj//wAAAC9hdmNDAfQADf/hABdn9AANkZsoIhHQgAAAAwCAAAAZB4oUywEABWjr48RIAAAAGHN0dHMAAAAAAAAAAQAAAMoAAAIAAAAAFHN0c3MAAAAAAAAAAQAAAAEAAAYQY3R0cwAAAAAAAADAAAAAAQAABAAAAAABAAAIAAAAAAIAAAIAAAAABwAABAAAAAABAAAGAAAAAAEAAAIAAAAAAQAABAAAAAABAAAKAAAAAAEAAAQAAAAAAQAAAAAAAAABAAACAAAAAAEAAAoAAAAAAQAABAAAAAABAAAAAAAAAAEAAAIAAAAAAQAACgAAAAABAAAEAAAAAAEAAAAAAAAAAQAAAgAAAAABAAAKAAAAAAEAAAQAAAAAAQAAAAAAAAABAAACAAAAAAEAAAoAAAAAAQAABAAAAAABAAAAAAAAAAEAAAIAAAAAAQAACgAAAAABAAAEAAAAAAEAAAAAAAAAAQAAAgAAAAABAAAKAAAAAAEAAAQAAAAAAQAAAAAAAAABAAACAAAAAAEAAAoAAAAAAQAABAAAAAABAAAAAAAAAAEAAAIAAAAAAQAACgAAAAABAAAEAAAAAAEAAAAAAAAAAQAAAgAAAAABAAAIAAAAAAIAAAIAAAAAAQAACgAAAAABAAAEAAAAAAEAAAAAAAAAAQAAAgAAAAABAAAKAAAAAAEAAAQAAAAAAQAAAAAAAAABAAACAAAAAAEAAAoAAAAAAQAABAAAAAABAAAAAAAAAAEAAAIAAAAAAQAACgAAAAABAAAEAAAAAAEAAAAAAAAAAQAAAgAAAAABAAAKAAAAAAEAAAQAAAAAAQAAAAAAAAABAAACAAAAAAEAAAoAAAAAAQAABAAAAAABAAAAAAAAAAEAAAIAAAAAAQAACgAAAAABAAAEAAAAAAEAAAAAAAAAAQAAAgAAAAABAAAKAAAAAAEAAAQAAAAAAQAAAAAAAAABAAACAAAAAAEAAAoAAAAAAQAABAAAAAABAAAAAAAAAAEAAAIAAAAAAQAACgAAAAABAAAEAAAAAAEAAAAAAAAAAQAAAgAAAAABAAAKAAAAAAEAAAQAAAAAAQAAAAAAAAABAAACAAAAAAEAAAgAAAAAAgAAAgAAAAABAAAKAAAAAAEAAAQAAAAAAQAAAAAAAAABAAACAAAAAAEAAAoAAAAAAQAABAAAAAABAAAAAAAAAAEAAAIAAAAAAQAACgAAAAABAAAEAAAAAAEAAAAAAAAAAQAAAgAAAAABAAAKAAAAAAEAAAQAAAAAAQAAAAAAAAABAAACAAAAAAEAAAoAAAAAAQAABAAAAAABAAAAAAAAAAEAAAIAAAAAAQAACgAAAAABAAAEAAAAAAEAAAAAAAAAAQAAAgAAAAABAAAKAAAAAAEAAAQAAAAAAQAAAAAAAAABAAACAAAAAAEAAAYAAAAAAQAAAgAAAAABAAAKAAAAAAEAAAQAAAAAAQAAAAAAAAABAAACAAAAAAEAAAoAAAAAAQAABAAAAAABAAAAAAAAAAEAAAIAAAAAAQAACgAAAAABAAAEAAAAAAEAAAAAAAAAAQAAAgAAAAABAAAKAAAAAAEAAAQAAAAAAQAAAAAAAAABAAACAAAAAAEAAAoAAAAAAQAABAAAAAABAAAAAAAAAAEAAAIAAAAAAQAABAAAAAABAAAKAAAAAAEAAAQAAAAAAQAAAAAAAAABAAACAAAAAAEAAAoAAAAAAQAABAAAAAABAAAAAAAAAAEAAAIAAAAAAQAACgAAAAABAAAEAAAAAAEAAAAAAAAAAQAAAgAAAAABAAAKAAAAAAEAAAQAAAAAAQAAAAAAAAABAAACAAAAAAEAAAoAAAAAAQAABAAAAAABAAAAAAAAAAEAAAIAAAAAAQAACgAAAAABAAAEAAAAAAEAAAAAAAAAAQAAAgAAAAABAAAKAAAAAAEAAAQAAAAAAQAAAAAAAAABAAACAAAAAAEAAAoAAAAAAQAABAAAAAABAAAAAAAAAAEAAAIAAAAAAQAACgAAAAABAAAEAAAAAAEAAAAAAAAAAQAAAgAAAAABAAAKAAAAAAEAAAQAAAAAAQAAAAAAAAABAAACAAAAAAEAAAoAAAAAAQAABAAAAAABAAAAAAAAAAEAAAIAAAAAAQAACAAAAAACAAACAAAAAAEAAAoAAAAAAQAABAAAAAABAAAAAAAAAAEAAAIAAAAAHHN0c2MAAAAAAAAAAQAAAAEAAADKAAAAAQAAAzxzdHN6AAAAAAAAAAAAAADKAAAF2gAAACcAAAAUAAAAFAAAABwAAAAcAAAAHAAAABwAAAAcAAAAHAAAABsAAAAhAAAAFAAAAB0AAAAvAAAAGgAAABMAAAAUAAAAFwAAABAAAAAWAAAAFQAAABcAAAAQAAAAFQAAABUAAAAXAAAAEAAAABUAAAAVAAAAFwAAABAAAAAVAAAAFQAAABcAAAAQAAAAFQAAABUAAAAXAAAAGQAAABMAAAAUAAAAFwAAABAAAAAVAAAAFQAAABcAAAAZAAAAEwAAABQAAAAdAAAAEwAAABEAAAAXAAAAEAAAABQAAAAUAAAAFwAAABAAAAAUAAAAFAAAABcAAAAQAAAAFAAAABQAAAAXAAAAEAAAABQAAAAUAAAAFwAAABAAAAAUAAAAFAAAABcAAAAQAAAAFAAAABQAAAAXAAAAEAAAABQAAAATAAAAFwAAABAAAAAUAAAAFAAAABcAAAAQAAAAFAAAABQAAAAXAAAAEAAAABQAAAAUAAAAFwAAABAAAAAUAAAAFAAAAB4AAAATAAAAEQAAAB4AAAAZAAAAFAAAABQAAAAdAAAAFAAAABQAAAATAAAAFwAAABAAAAAUAAAAFAAAABcAAAAQAAAAFAAAABQAAAAXAAAAEAAAABQAAAAUAAAAFwAAABAAAAAUAAAAFAAAABcAAAAQAAAAFAAAABQAAAAhAAAAFAAAABYAAAAXAAAAEwAAABQAAAAXAAAAEAAAABQAAAAUAAAAFwAAABAAAAAUAAAAFAAAABcAAAAQAAAAFAAAABQAAAAWAAAAEAAAABQAAAAUAAAAIAAAABYAAAAQAAAAFAAAABQAAAAXAAAAEAAAABQAAAAUAAAAFwAAABAAAAAUAAAAFAAAABcAAAAQAAAAFAAAABQAAAAXAAAAEAAAABQAAAAUAAAAFwAAABAAAAAUAAAAFAAAABcAAAAQAAAAFAAAABQAAAAXAAAAEAAAABQAAAAUAAAAFwAAABAAAAAUAAAAFAAAABcAAAAQAAAAFAAAABQAAAAWAAAAEAAAABQAAAAUAAAAHQAAABMAAAARAAAAHgAAACcAAAAUAAAAJwAAABRzdGNvAAAAAAAAAAEAAAAwAAAAYnVkdGEAAABabWV0YQAAAAAAAAAhaGRscgAAAAAAAAAAbWRpcmFwcGwAAAAAAAAAAAAAAAAtaWxzdAAAACWpdG9vAAAAHWRhdGEAAAABAAAAAExhdmY1Ny44My4xMDA=\" type=\"video/mp4\" />\n",
              "             </video>"
            ],
            "text/plain": [
              "<IPython.core.display.HTML object>"
            ]
          },
          "metadata": {
            "tags": []
          },
          "execution_count": 35
        }
      ]
    },
    {
      "cell_type": "code",
      "metadata": {
        "id": "-zanVdZanmpv",
        "colab_type": "code",
        "outputId": "d3f5b923-3691-4bfb-eb12-cf4196d89c81",
        "colab": {
          "base_uri": "https://localhost:8080/",
          "height": 853
        }
      },
      "source": [
        "# Testing the One layer model with lr of 0.01\n",
        "env = Environment(grid_size=size, max_time=T, temperature=0.3)\n",
        "agent = DQN_FC_1L(size, lr=.01, epsilon = 0.1, memory_size=2000, batch_size = 32)\n",
        "train(agent, env, epochs_train, prefix='fc_train')\n",
        "HTML(display_videos('fc_train10.mp4'))"
      ],
      "execution_count": 0,
      "outputs": [
        {
          "output_type": "stream",
          "text": [
            "Epoch 000/040 | Loss 0.0101 | Win/lose count 1.5/2.0 (-0.5)\n",
            "Epoch 001/040 | Loss 0.0086 | Win/lose count 2.5/6.0 (-3.5)\n",
            "Epoch 002/040 | Loss 0.0306 | Win/lose count 2.5/4.0 (-1.5)\n",
            "Epoch 003/040 | Loss 0.0149 | Win/lose count 3.0/5.0 (-2.0)\n",
            "Epoch 004/040 | Loss 0.0228 | Win/lose count 4.5/10.0 (-5.5)\n",
            "Epoch 005/040 | Loss 0.0147 | Win/lose count 3.5/4.0 (-0.5)\n",
            "Epoch 006/040 | Loss 0.0097 | Win/lose count 4.5/7.0 (-2.5)\n",
            "Epoch 007/040 | Loss 0.0122 | Win/lose count 2.0/4.0 (-2.0)\n",
            "Epoch 008/040 | Loss 0.0249 | Win/lose count 4.0/5.0 (-1.0)\n",
            "Epoch 009/040 | Loss 0.0210 | Win/lose count 5.5/5.0 (0.5)\n",
            "Epoch 010/040 | Loss 0.0209 | Win/lose count 5.0/1.0 (4.0)\n",
            "Epoch 011/040 | Loss 0.0271 | Win/lose count 2.5/0 (2.5)\n",
            "Epoch 012/040 | Loss 0.0144 | Win/lose count 2.5/4.0 (-1.5)\n",
            "Epoch 013/040 | Loss 0.0228 | Win/lose count 2.0/3.0 (-1.0)\n",
            "Epoch 014/040 | Loss 0.0263 | Win/lose count 7.0/10.0 (-3.0)\n",
            "Epoch 015/040 | Loss 0.0303 | Win/lose count 4.0/1.0 (3.0)\n",
            "Epoch 016/040 | Loss 0.0083 | Win/lose count 8.5/5.0 (3.5)\n",
            "Epoch 017/040 | Loss 0.0059 | Win/lose count 4.0/4.0 (0.0)\n",
            "Epoch 018/040 | Loss 0.0219 | Win/lose count 6.5/5.0 (1.5)\n",
            "Epoch 019/040 | Loss 0.0115 | Win/lose count 2.5/4.0 (-1.5)\n",
            "Epoch 020/040 | Loss 0.0165 | Win/lose count 1.5/0 (1.5)\n",
            "Epoch 021/040 | Loss 0.0118 | Win/lose count 3.5/5.0 (-1.5)\n",
            "Epoch 022/040 | Loss 0.0125 | Win/lose count 2.5/5.0 (-2.5)\n",
            "Epoch 023/040 | Loss 0.0172 | Win/lose count 6.5/6.0 (0.5)\n",
            "Epoch 024/040 | Loss 0.0067 | Win/lose count 1.5/4.0 (-2.5)\n",
            "Epoch 025/040 | Loss 0.0426 | Win/lose count 1.5/1.0 (0.5)\n",
            "Epoch 026/040 | Loss 0.0103 | Win/lose count 5.5/1.0 (4.5)\n",
            "Epoch 027/040 | Loss 0.0156 | Win/lose count 3.5/5.0 (-1.5)\n",
            "Epoch 028/040 | Loss 0.0051 | Win/lose count 3.5/3.0 (0.5)\n",
            "Epoch 029/040 | Loss 0.0060 | Win/lose count 3.5/1.0 (2.5)\n",
            "Epoch 030/040 | Loss 0.0144 | Win/lose count 7.0/4.0 (3.0)\n",
            "Epoch 031/040 | Loss 0.0147 | Win/lose count 2.5/0 (2.5)\n",
            "Epoch 032/040 | Loss 0.0186 | Win/lose count 1.5/4.0 (-2.5)\n",
            "Epoch 033/040 | Loss 0.0159 | Win/lose count 3.0/1.0 (2.0)\n",
            "Epoch 034/040 | Loss 0.0071 | Win/lose count 5.0/4.0 (1.0)\n",
            "Epoch 035/040 | Loss 0.0186 | Win/lose count 6.0/4.0 (2.0)\n",
            "Epoch 036/040 | Loss 0.0228 | Win/lose count 2.5/3.0 (-0.5)\n",
            "Epoch 037/040 | Loss 0.0191 | Win/lose count 1.5/3.0 (-1.5)\n",
            "Epoch 038/040 | Loss 0.0151 | Win/lose count 3.5/5.0 (-1.5)\n",
            "Epoch 039/040 | Loss 0.0261 | Win/lose count 1.5/0 (1.5)\n"
          ],
          "name": "stdout"
        },
        {
          "output_type": "execute_result",
          "data": {
            "text/html": [
              "<video alt=\"test\" controls>\n",
              "                <source src=\"data:video/mp4;base64,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\" type=\"video/mp4\" />\n",
              "             </video>"
            ],
            "text/plain": [
              "<IPython.core.display.HTML object>"
            ]
          },
          "metadata": {
            "tags": []
          },
          "execution_count": 36
        }
      ]
    },
    {
      "cell_type": "code",
      "metadata": {
        "id": "9c-SIkxYSl-e",
        "colab_type": "code",
        "outputId": "fcfeb303-9656-4ce6-a008-24975f8800c5",
        "colab": {
          "base_uri": "https://localhost:8080/",
          "height": 886
        }
      },
      "source": [
        "# Testing the Five layer model (with memory size of 2000 and lr of 0.1)\n",
        "env = Environment(grid_size=size, max_time=T, temperature=0.3)\n",
        "agent = DQN_FC_5L(size, lr=.1, epsilon = 0.1, memory_size=2000, batch_size = 32)\n",
        "train(agent, env, epochs_train, prefix='fc_train')\n",
        "HTML(display_videos('fc_train10.mp4'))"
      ],
      "execution_count": 0,
      "outputs": [
        {
          "output_type": "stream",
          "text": [
            "WARNING:tensorflow:From /usr/local/lib/python3.6/dist-packages/keras/backend/tensorflow_backend.py:148: The name tf.placeholder_with_default is deprecated. Please use tf.compat.v1.placeholder_with_default instead.\n",
            "\n",
            "Epoch 000/040 | Loss 0.1192 | Win/lose count 7.5/15.0 (-7.5)\n",
            "Epoch 001/040 | Loss 0.0167 | Win/lose count 6.5/9.0 (-2.5)\n",
            "Epoch 002/040 | Loss 0.0424 | Win/lose count 6.0/10.0 (-4.0)\n",
            "Epoch 003/040 | Loss 0.0200 | Win/lose count 4.5/12.0 (-7.5)\n",
            "Epoch 004/040 | Loss 0.0318 | Win/lose count 3.0/15.0 (-12.0)\n",
            "Epoch 005/040 | Loss 0.0180 | Win/lose count 9.0/7.0 (2.0)\n",
            "Epoch 006/040 | Loss 0.0201 | Win/lose count 6.5/8.0 (-1.5)\n",
            "Epoch 007/040 | Loss 0.0235 | Win/lose count 3.0/5.0 (-2.0)\n",
            "Epoch 008/040 | Loss 0.0272 | Win/lose count 7.0/16.0 (-9.0)\n",
            "Epoch 009/040 | Loss 0.0060 | Win/lose count 6.0/6.0 (0.0)\n",
            "Epoch 010/040 | Loss 0.0074 | Win/lose count 7.0/5.0 (2.0)\n",
            "Epoch 011/040 | Loss 0.0288 | Win/lose count 7.5/5.0 (2.5)\n",
            "Epoch 012/040 | Loss 0.0144 | Win/lose count 9.0/4.0 (5.0)\n",
            "Epoch 013/040 | Loss 0.0152 | Win/lose count 7.5/3.0 (4.5)\n",
            "Epoch 014/040 | Loss 0.0170 | Win/lose count 7.0/10.0 (-3.0)\n",
            "Epoch 015/040 | Loss 0.0088 | Win/lose count 6.0/3.0 (3.0)\n",
            "Epoch 016/040 | Loss 0.0101 | Win/lose count 10.5/7.0 (3.5)\n",
            "Epoch 017/040 | Loss 0.0235 | Win/lose count 13.5/17.0 (-3.5)\n",
            "Epoch 018/040 | Loss 0.0132 | Win/lose count 3.5/2.0 (1.5)\n",
            "Epoch 019/040 | Loss 0.0190 | Win/lose count 5.5/8.0 (-2.5)\n",
            "Epoch 020/040 | Loss 0.0132 | Win/lose count 8.5/7.0 (1.5)\n",
            "Epoch 021/040 | Loss 0.0248 | Win/lose count 4.0/5.0 (-1.0)\n",
            "Epoch 022/040 | Loss 0.0067 | Win/lose count 5.5/6.0 (-0.5)\n",
            "Epoch 023/040 | Loss 0.0185 | Win/lose count 6.0/5.0 (1.0)\n",
            "Epoch 024/040 | Loss 0.0153 | Win/lose count 3.0/2.0 (1.0)\n",
            "Epoch 025/040 | Loss 0.0007 | Win/lose count 4.5/4.0 (0.5)\n",
            "Epoch 026/040 | Loss 0.0119 | Win/lose count 1.5/8.0 (-6.5)\n",
            "Epoch 027/040 | Loss 0.0107 | Win/lose count 6.5/7.0 (-0.5)\n",
            "Epoch 028/040 | Loss 0.0075 | Win/lose count 6.5/3.0 (3.5)\n",
            "Epoch 029/040 | Loss 0.0143 | Win/lose count 3.5/5.0 (-1.5)\n",
            "Epoch 030/040 | Loss 0.0172 | Win/lose count 4.0/3.0 (1.0)\n",
            "Epoch 031/040 | Loss 0.0076 | Win/lose count 2.5/4.0 (-1.5)\n",
            "Epoch 032/040 | Loss 0.0101 | Win/lose count 3.0/2.0 (1.0)\n",
            "Epoch 033/040 | Loss 0.0006 | Win/lose count 3.0/1.0 (2.0)\n",
            "Epoch 034/040 | Loss 0.0024 | Win/lose count 3.0/1.0 (2.0)\n",
            "Epoch 035/040 | Loss 0.0123 | Win/lose count 4.0/6.0 (-2.0)\n",
            "Epoch 036/040 | Loss 0.0004 | Win/lose count 4.5/7.0 (-2.5)\n",
            "Epoch 037/040 | Loss 0.0003 | Win/lose count 3.0/5.0 (-2.0)\n",
            "Epoch 038/040 | Loss 0.0038 | Win/lose count 5.5/9.0 (-3.5)\n",
            "Epoch 039/040 | Loss 0.0209 | Win/lose count 7.0/5.0 (2.0)\n"
          ],
          "name": "stdout"
        },
        {
          "output_type": "execute_result",
          "data": {
            "text/html": [
              "<video alt=\"test\" controls>\n",
              "                <source src=\"data:video/mp4;base64,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\" type=\"video/mp4\" />\n",
              "             </video>"
            ],
            "text/plain": [
              "<IPython.core.display.HTML object>"
            ]
          },
          "metadata": {
            "tags": []
          },
          "execution_count": 37
        }
      ]
    },
    {
      "cell_type": "markdown",
      "metadata": {
        "id": "trH6JVAXp8qi",
        "colab_type": "text"
      },
      "source": [
        "After testing the two model with different parameters, We choose the 1 layer model with relu activation, lr of 0.1, memory size of 2000, batch size of 32 and $\\epsilon = 0.1$"
      ]
    },
    {
      "cell_type": "markdown",
      "metadata": {
        "id": "nJqBKX0qvoII",
        "colab_type": "text"
      },
      "source": [
        "***\n",
        "***\n",
        "__Question 8__ Implement the DQN training algorithm using a CNN (for example, 2 convolutional layers and one final fully connected layer)."
      ]
    },
    {
      "cell_type": "code",
      "metadata": {
        "id": "BnvDf4m4voIJ",
        "colab_type": "code",
        "colab": {}
      },
      "source": [
        "class DQN_CNN(DQN):\n",
        "    def __init__(self, *args,lr=0.1,**kwargs):\n",
        "        super(DQN_CNN, self).__init__(*args,**kwargs)\n",
        "        \n",
        "        model = Sequential()\n",
        "        model.add(Conv2D(50,(2,2),input_shape=(5,5,self.n_state,),activation='relu'))\n",
        "        model.add(Conv2D(30,(2,2),activation='relu'))\n",
        "        model.add(Flatten())\n",
        "        model.add(Dense(4))\n",
        "        model.compile(sgd(lr=lr, decay=1e-4, momentum=0.0), \"mse\")\n",
        "        self.model = model"
      ],
      "execution_count": 0,
      "outputs": []
    },
    {
      "cell_type": "markdown",
      "metadata": {
        "id": "HtZzI_kAqpgs",
        "colab_type": "text"
      },
      "source": [
        "After testing many CNN architecture and different parameters, we choose the model with 2 hidden Convolution Layers (50,(2,2)) and (30,(2,2)), relu activations, lr of 0.1 and memory size of 2000, batch size of 32 and $\\epsilon = 0.1$"
      ]
    },
    {
      "cell_type": "code",
      "metadata": {
        "id": "_yaQeKkdvoIL",
        "colab_type": "code",
        "outputId": "9f4d6333-e1a5-44cf-edcf-29d8b67cfaa1",
        "colab": {
          "base_uri": "https://localhost:8080/",
          "height": 853
        }
      },
      "source": [
        "env = Environment(grid_size=size, max_time=T, temperature=0.3)\n",
        "agent = DQN_CNN(size, lr=.1, epsilon = 0.1, memory_size=2000, batch_size = 32)\n",
        "train(agent,env,epochs_train,prefix='cnn_train_best')\n",
        "HTML(display_videos('cnn_train_best10.mp4'))"
      ],
      "execution_count": 0,
      "outputs": [
        {
          "output_type": "stream",
          "text": [
            "Epoch 000/040 | Loss 0.0012 | Win/lose count 4.0/6.0 (-2.0)\n",
            "Epoch 001/040 | Loss 0.0014 | Win/lose count 2.5/5.0 (-2.5)\n",
            "Epoch 002/040 | Loss 0.0037 | Win/lose count 0.5/2.0 (-1.5)\n",
            "Epoch 003/040 | Loss 0.0034 | Win/lose count 1.0/2.0 (-1.0)\n",
            "Epoch 004/040 | Loss 0.0094 | Win/lose count 5.5/5.0 (0.5)\n",
            "Epoch 005/040 | Loss 0.0085 | Win/lose count 4.5/6.0 (-1.5)\n",
            "Epoch 006/040 | Loss 0.0022 | Win/lose count 4.5/2.0 (2.5)\n",
            "Epoch 007/040 | Loss 0.0216 | Win/lose count 2.0/7.0 (-5.0)\n",
            "Epoch 008/040 | Loss 0.0055 | Win/lose count 3.0/1.0 (2.0)\n",
            "Epoch 009/040 | Loss 0.0063 | Win/lose count 6.0/0 (6.0)\n",
            "Epoch 010/040 | Loss 0.0019 | Win/lose count 4.0/0 (4.0)\n",
            "Epoch 011/040 | Loss 0.0018 | Win/lose count 7.5/5.0 (2.5)\n",
            "Epoch 012/040 | Loss 0.0014 | Win/lose count 5.0/1.0 (4.0)\n",
            "Epoch 013/040 | Loss 0.0048 | Win/lose count 7.5/1.0 (6.5)\n",
            "Epoch 014/040 | Loss 0.0564 | Win/lose count 5.5/3.0 (2.5)\n",
            "Epoch 015/040 | Loss 0.1081 | Win/lose count 4.0/2.0 (2.0)\n",
            "Epoch 016/040 | Loss 0.0028 | Win/lose count 5.0/4.0 (1.0)\n",
            "Epoch 017/040 | Loss 0.0528 | Win/lose count 12.0/3.0 (9.0)\n",
            "Epoch 018/040 | Loss 0.0486 | Win/lose count 6.5/2.0 (4.5)\n",
            "Epoch 019/040 | Loss 0.0034 | Win/lose count 10.0/0 (10.0)\n",
            "Epoch 020/040 | Loss 0.0042 | Win/lose count 2.0/3.0 (-1.0)\n",
            "Epoch 021/040 | Loss 0.0031 | Win/lose count 9.0/3.0 (6.0)\n",
            "Epoch 022/040 | Loss 0.0019 | Win/lose count 13.5/4.0 (9.5)\n",
            "Epoch 023/040 | Loss 0.0586 | Win/lose count 20.0/3.0 (17.0)\n",
            "Epoch 024/040 | Loss 0.0070 | Win/lose count 6.5/3.0 (3.5)\n",
            "Epoch 025/040 | Loss 0.0015 | Win/lose count 7.5/1.0 (6.5)\n",
            "Epoch 026/040 | Loss 0.0025 | Win/lose count 7.0/2.0 (5.0)\n",
            "Epoch 027/040 | Loss 0.0014 | Win/lose count 3.0/1.0 (2.0)\n",
            "Epoch 028/040 | Loss 0.0025 | Win/lose count 11.0/2.0 (9.0)\n",
            "Epoch 029/040 | Loss 0.0031 | Win/lose count 16.0/1.0 (15.0)\n",
            "Epoch 030/040 | Loss 0.0025 | Win/lose count 9.5/0 (9.5)\n",
            "Epoch 031/040 | Loss 0.0018 | Win/lose count 24.0/3.0 (21.0)\n",
            "Epoch 032/040 | Loss 0.0056 | Win/lose count 14.5/3.0 (11.5)\n",
            "Epoch 033/040 | Loss 0.0025 | Win/lose count 12.5/2.0 (10.5)\n",
            "Epoch 034/040 | Loss 0.0021 | Win/lose count 8.5/7.0 (1.5)\n",
            "Epoch 035/040 | Loss 0.0483 | Win/lose count 14.5/2.0 (12.5)\n",
            "Epoch 036/040 | Loss 0.0510 | Win/lose count 12.0/7.0 (5.0)\n",
            "Epoch 037/040 | Loss 0.0044 | Win/lose count 13.5/3.0 (10.5)\n",
            "Epoch 038/040 | Loss 0.0042 | Win/lose count 10.0/2.0 (8.0)\n",
            "Epoch 039/040 | Loss 0.0037 | Win/lose count 10.0/4.0 (6.0)\n"
          ],
          "name": "stdout"
        },
        {
          "output_type": "execute_result",
          "data": {
            "text/html": [
              "<video alt=\"test\" controls>\n",
              "                <source src=\"data:video/mp4;base64,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\" type=\"video/mp4\" />\n",
              "             </video>"
            ],
            "text/plain": [
              "<IPython.core.display.HTML object>"
            ]
          },
          "metadata": {
            "tags": []
          },
          "execution_count": 39
        }
      ]
    },
    {
      "cell_type": "markdown",
      "metadata": {
        "id": "J-oFIKl5voId",
        "colab_type": "text"
      },
      "source": [
        "***\n",
        "***\n",
        "__Question 9__ Test both algorithms and compare their performances. Which issue(s) do you observe? Observe also different behaviors by changing the temperature."
      ]
    },
    {
      "cell_type": "code",
      "metadata": {
        "id": "idpZEt4TvoIe",
        "colab_type": "code",
        "outputId": "e78d6c06-445c-4613-9a24-c0ba052db6fb",
        "colab": {
          "base_uri": "https://localhost:8080/",
          "height": 434
        }
      },
      "source": [
        "# Testing with temperature 0.3\n",
        "env = Environment(grid_size=size, max_time=T,temperature=0.3)\n",
        "agent_cnn = DQN_CNN(size, lr=.1, epsilon = 0.1, memory_size=2000, batch_size = 32)\n",
        "agent_cnn.load(name_weights='cnn_train_bestmodel.h5',name_model='cnn_train_bestmodel.json')\n",
        "\n",
        "agent_fc = DQN_FC_1L(size, lr=.1, epsilon = 0.1, memory_size=2000, batch_size = 32)\n",
        "agent_fc.load(name_weights='fc_train_bestmodel.h5',name_model='fc_train_bestmodel.json')\n",
        "print('Test of the CNN')\n",
        "test(agent_cnn,env,epochs_test,prefix='cnn_test')\n",
        "print('Test of the FC')\n",
        "test(agent_fc,env,epochs_test,prefix='fc_test')"
      ],
      "execution_count": 0,
      "outputs": [
        {
          "output_type": "stream",
          "text": [
            "Test of the CNN\n",
            "Win/lose count 6.0/1.0. Average score (5.0)\n",
            "Win/lose count 7.0/0. Average score (6.0)\n",
            "Win/lose count 11.0/0. Average score (7.666666666666667)\n",
            "Win/lose count 4.5/0. Average score (6.875)\n",
            "Win/lose count 1.5/0. Average score (5.8)\n",
            "Win/lose count 21.0/0. Average score (8.333333333333334)\n",
            "Win/lose count 5.0/0. Average score (7.857142857142857)\n",
            "Win/lose count 5.5/0. Average score (7.5625)\n",
            "Win/lose count 6.0/0. Average score (7.388888888888889)\n",
            "Win/lose count 7.5/0. Average score (7.4)\n",
            "Final score: 7.4\n",
            "Test of the FC\n",
            "Win/lose count 5.0/0. Average score (5.0)\n",
            "Win/lose count 3.0/0. Average score (4.0)\n",
            "Win/lose count 2.5/0. Average score (3.5)\n",
            "Win/lose count 1.0/0. Average score (2.875)\n",
            "Win/lose count 4.5/0. Average score (3.2)\n",
            "Win/lose count 0.5/0. Average score (2.75)\n",
            "Win/lose count 9.0/0. Average score (3.642857142857143)\n",
            "Win/lose count 3.0/0. Average score (3.5625)\n",
            "Win/lose count 5.5/0. Average score (3.7777777777777777)\n",
            "Win/lose count 2.0/0. Average score (3.6)\n",
            "Final score: 3.6\n"
          ],
          "name": "stdout"
        }
      ]
    },
    {
      "cell_type": "code",
      "metadata": {
        "id": "k6F8gq-kvoJP",
        "colab_type": "code",
        "outputId": "1d3d7167-b254-4dfe-dab4-b0d8b026a03f",
        "colab": {
          "base_uri": "https://localhost:8080/",
          "height": 192
        }
      },
      "source": [
        "HTML(display_videos('cnn_test0.mp4'))"
      ],
      "execution_count": 0,
      "outputs": [
        {
          "output_type": "execute_result",
          "data": {
            "text/html": [
              "<video alt=\"test\" controls>\n",
              "                <source src=\"data:video/mp4;base64,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\" type=\"video/mp4\" />\n",
              "             </video>"
            ],
            "text/plain": [
              "<IPython.core.display.HTML object>"
            ]
          },
          "metadata": {
            "tags": []
          },
          "execution_count": 64
        }
      ]
    },
    {
      "cell_type": "code",
      "metadata": {
        "id": "KeNm5oZvvoJW",
        "colab_type": "code",
        "outputId": "b3dc18f6-5b67-4dec-9360-e8f80a5b44bd",
        "colab": {
          "base_uri": "https://localhost:8080/",
          "height": 192
        }
      },
      "source": [
        "HTML(display_videos('fc_test0.mp4'))"
      ],
      "execution_count": 0,
      "outputs": [
        {
          "output_type": "execute_result",
          "data": {
            "text/html": [
              "<video alt=\"test\" controls>\n",
              "                <source src=\"data:video/mp4;base64,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\" type=\"video/mp4\" />\n",
              "             </video>"
            ],
            "text/plain": [
              "<IPython.core.display.HTML object>"
            ]
          },
          "metadata": {
            "tags": []
          },
          "execution_count": 65
        }
      ]
    },
    {
      "cell_type": "code",
      "metadata": {
        "id": "jJkHUOIev6dK",
        "colab_type": "code",
        "outputId": "6d65578a-449d-4bd5-88e0-1a34714c580e",
        "colab": {
          "base_uri": "https://localhost:8080/",
          "height": 434
        }
      },
      "source": [
        "# Testing with temperature 0.5\n",
        "env = Environment(grid_size=size, max_time=T,temperature=0.6)\n",
        "agent_cnn = DQN_CNN(size, lr=.1, epsilon = 0.1, memory_size=2000, batch_size = 32)\n",
        "agent_cnn.load(name_weights='cnn_train_bestmodel.h5',name_model='cnn_train_bestmodel.json')\n",
        "\n",
        "agent_fc = DQN_FC_1L(size, lr=.1, epsilon = 0.1, memory_size=2000, batch_size = 32)\n",
        "agent_fc.load(name_weights='fc_train_bestmodel.h5',name_model='fc_train_bestmodel.json')\n",
        "print('Test of the CNN')\n",
        "test(agent_cnn,env,epochs_test,prefix='cnn_test')\n",
        "print('Test of the FC')\n",
        "test(agent_fc,env,epochs_test,prefix='fc_test')"
      ],
      "execution_count": 0,
      "outputs": [
        {
          "output_type": "stream",
          "text": [
            "Test of the CNN\n",
            "Win/lose count 3.5/0. Average score (3.5)\n",
            "Win/lose count 17.0/0. Average score (10.25)\n",
            "Win/lose count 13.5/0. Average score (11.333333333333334)\n",
            "Win/lose count 12.0/1.0. Average score (11.25)\n",
            "Win/lose count 19.0/0. Average score (12.8)\n",
            "Win/lose count 16.5/0. Average score (13.416666666666666)\n",
            "Win/lose count 27.5/1.0. Average score (15.285714285714286)\n",
            "Win/lose count 16.5/0. Average score (15.4375)\n",
            "Win/lose count 17.5/0. Average score (15.666666666666666)\n",
            "Win/lose count 9.0/0. Average score (15.0)\n",
            "Final score: 15.0\n",
            "Test of the FC\n",
            "Win/lose count 2.5/0. Average score (2.5)\n",
            "Win/lose count 4.0/0. Average score (3.25)\n",
            "Win/lose count 5.5/0. Average score (4.0)\n",
            "Win/lose count 11.5/1.0. Average score (5.625)\n",
            "Win/lose count 5.5/0. Average score (5.6)\n",
            "Win/lose count 3.0/0. Average score (5.166666666666667)\n",
            "Win/lose count 8.0/0. Average score (5.571428571428571)\n",
            "Win/lose count 2.0/1.0. Average score (5.0)\n",
            "Win/lose count 0.5/0. Average score (4.5)\n",
            "Win/lose count 19.5/1.0. Average score (5.9)\n",
            "Final score: 5.9\n"
          ],
          "name": "stdout"
        }
      ]
    },
    {
      "cell_type": "code",
      "metadata": {
        "id": "r0cpsNRBv-vp",
        "colab_type": "code",
        "outputId": "30a592dc-b1ea-41fe-9cd5-cb4533a8ba18",
        "colab": {
          "base_uri": "https://localhost:8080/",
          "height": 434
        }
      },
      "source": [
        "# Testing with temperature 0.9\n",
        "env = Environment(grid_size=size, max_time=T,temperature=0.9)\n",
        "agent_cnn = DQN_CNN(size, lr=.1, epsilon = 0.1, memory_size=2000, batch_size = 32)\n",
        "agent_cnn.load(name_weights='cnn_train_bestmodel.h5',name_model='cnn_train_bestmodel.json')\n",
        "\n",
        "agent_fc = DQN_FC_1L(size, lr=.1, epsilon = 0.1, memory_size=2000, batch_size = 32)\n",
        "agent_fc.load(name_weights='fc_train_bestmodel.h5',name_model='fc_train_bestmodel.json')\n",
        "print('Test of the CNN')\n",
        "test(agent_cnn,env,epochs_test,prefix='cnn_test')\n",
        "print('Test of the FC')\n",
        "test(agent_fc,env,epochs_test,prefix='fc_test')"
      ],
      "execution_count": 0,
      "outputs": [
        {
          "output_type": "stream",
          "text": [
            "Test of the CNN\n",
            "Win/lose count 29.5/0. Average score (29.5)\n",
            "Win/lose count 27.5/0. Average score (28.5)\n",
            "Win/lose count 12.0/0. Average score (23.0)\n",
            "Win/lose count 27.5/0. Average score (24.125)\n",
            "Win/lose count 11.5/0. Average score (21.6)\n",
            "Win/lose count 48.0/0. Average score (26.0)\n",
            "Win/lose count 48.0/0. Average score (29.142857142857142)\n",
            "Win/lose count 19.0/1.0. Average score (27.75)\n",
            "Win/lose count 53.5/0. Average score (30.61111111111111)\n",
            "Win/lose count 20.5/0. Average score (29.6)\n",
            "Final score: 29.6\n",
            "Test of the FC\n",
            "Win/lose count 19.5/0. Average score (19.5)\n",
            "Win/lose count 6.0/1.0. Average score (12.25)\n",
            "Win/lose count 25.5/1.0. Average score (16.333333333333332)\n",
            "Win/lose count 14.5/1.0. Average score (15.625)\n",
            "Win/lose count 19.0/0. Average score (16.3)\n",
            "Win/lose count 19.5/0. Average score (16.833333333333332)\n",
            "Win/lose count 27.5/0. Average score (18.357142857142858)\n",
            "Win/lose count 11.0/0. Average score (17.4375)\n",
            "Win/lose count 15.0/0. Average score (17.166666666666668)\n",
            "Win/lose count 11.5/0. Average score (16.6)\n",
            "Final score: 16.6\n"
          ],
          "name": "stdout"
        }
      ]
    },
    {
      "cell_type": "markdown",
      "metadata": {
        "id": "Pj5cVz5jvoJZ",
        "colab_type": "text"
      },
      "source": [
        "The performance using CNN is better than the one obtained using  fully connected networks and it is better at avoiding the poisonnous states.  **This gap is increasing with the temperature** as we can see.\n",
        "\n",
        "The main issue that we can observe is that the algorithms tends to **not explore the map** which means that sometimes it goes to a position A then goes to a position B and then go back to position A (most of the time they get stucked in a left-right or up-down loop). This method will not decrease the score but will not help to improve it."
      ]
    },
    {
      "cell_type": "markdown",
      "metadata": {
        "id": "3RM0uh24voJg",
        "colab_type": "text"
      },
      "source": [
        "***\n",
        "\n",
        "The algorithm tends to not explore the map which can be an issue. We propose two ideas in order to encourage exploration:\n",
        "1. Incorporating a decreasing $\\epsilon$-greedy exploration. You can use the method ```set_epsilon```\n",
        "2. Append via the environment a new state that describes if a cell has been visited or not\n",
        "\n",
        "***\n",
        "__Question 10__ Design a new ```train_explore``` function and environment class ```EnvironmentExploring``` to tackle the issue of exploration.\n",
        "\n"
      ]
    },
    {
      "cell_type": "code",
      "metadata": {
        "id": "Ms0C6phNvoJi",
        "colab_type": "code",
        "colab": {}
      },
      "source": [
        "def train_explore(agent,env,epoch,epsilon_decay=1,prefix=''):\n",
        "    # Number of won games\n",
        "    score = 0\n",
        "    loss = 0\n",
        "\n",
        "    for e in range(1, epoch+1):\n",
        "        # At each epoch, we restart to a fresh game and get the initial state\n",
        "        state = env.reset()\n",
        "        # This assumes that the games will terminate\n",
        "        game_over = False\n",
        "\n",
        "        win = 0\n",
        "        lose = 0\n",
        "\n",
        "        while not game_over:\n",
        "            # The agent performs an action\n",
        "            action = agent.act(state)\n",
        "\n",
        "            # Apply an action to the environment, get the next state, the reward\n",
        "            # and if the games end\n",
        "            prev_state = state\n",
        "            state, reward, game_over = env.act(action, train=True)\n",
        "\n",
        "            # Update the counters\n",
        "            if reward > 0:\n",
        "                win = win + reward\n",
        "            if reward < 0:\n",
        "                lose = lose -reward\n",
        "\n",
        "            # Apply the reinforcement strategy\n",
        "            loss = agent.reinforce(prev_state, state,  action, reward, game_over)\n",
        "        \n",
        "        # Decrease the exploration rate\n",
        "        agent.set_epsilon(agent.epsilon * epsilon_decay)\n",
        "\n",
        "        # Save as a mp4\n",
        "        if e % 10 == 0:\n",
        "            env.draw(prefix+str(e))\n",
        "\n",
        "        # Update stats\n",
        "        score += win-lose\n",
        "\n",
        "        print(\"Epoch {:03d}/{:03d} | Loss {:.4f} | Win/lose count {}/{} ({})\"\n",
        "              .format(e, epoch, loss, round(win, 2), round(lose, 2), round(win-lose, 2)))\n",
        "        agent.save(name_weights=prefix+'model.h5', name_model=prefix+'model.json')\n",
        "\n",
        "class EnvironmentExploring(object):\n",
        "    def __init__(self, grid_size=10, max_time=500, temperature=0.1):\n",
        "        grid_size = grid_size+4\n",
        "        self.grid_size = grid_size\n",
        "        self.max_time = max_time\n",
        "        self.temperature = temperature\n",
        "\n",
        "        #board on which one plays\n",
        "        self.board = np.zeros((grid_size,grid_size))\n",
        "        self.position = np.zeros((grid_size,grid_size))\n",
        "        self.malus_position = np.zeros((grid_size,grid_size))\n",
        "\n",
        "        # coordinate of the cat\n",
        "        self.x = 0\n",
        "        self.y = 1\n",
        "\n",
        "        # self time\n",
        "        self.t = 0\n",
        "\n",
        "        self.scale=16\n",
        "\n",
        "        self.to_draw = np.zeros((max_time+2, grid_size*self.scale, grid_size*self.scale, 3))\n",
        "\n",
        "\n",
        "    def draw(self, e):\n",
        "        skvideo.io.vwrite(str(e) + '.mp4', self.to_draw)\n",
        "\n",
        "    def get_frame(self, t):\n",
        "        b = np.zeros((self.grid_size,self.grid_size,3))+128\n",
        "        b[self.board>0,0] = 256\n",
        "        b[self.board < 0, 2] = 256\n",
        "        b[self.x,self.y,:]=256\n",
        "        b[-2:,:,:]=0\n",
        "        b[:,-2:,:]=0\n",
        "        b[:2,:,:]=0\n",
        "        b[:,:2,:]=0\n",
        "        \n",
        "        b =  cv2.resize(b, None, fx=self.scale, fy=self.scale, interpolation=cv2.INTER_NEAREST)\n",
        "\n",
        "        self.to_draw[t,:,:,:]=b\n",
        "\n",
        "\n",
        "    def act(self, action, train=False):\n",
        "        \"\"\"This function returns the new state, reward and decides if the\n",
        "        game ends.\"\"\"\n",
        "\n",
        "        self.get_frame(int(self.t))\n",
        "\n",
        "        self.position = np.zeros((self.grid_size, self.grid_size))\n",
        "\n",
        "        self.position[0:2,:]= -1\n",
        "        self.position[:,0:2] = -1\n",
        "        self.position[-2:, :] = -1\n",
        "        self.position[-2:, :] = -1\n",
        "\n",
        "        self.position[self.x, self.y] = 1\n",
        "        if action == 0:\n",
        "            if self.x == self.grid_size-3:\n",
        "                self.x = self.x-1\n",
        "            else:\n",
        "                self.x = self.x + 1\n",
        "        elif action == 1:\n",
        "            if self.x == 2:\n",
        "                self.x = self.x+1\n",
        "            else:\n",
        "                self.x = self.x-1\n",
        "        elif action == 2:\n",
        "            if self.y == self.grid_size - 3:\n",
        "                self.y = self.y - 1\n",
        "            else:\n",
        "                self.y = self.y + 1\n",
        "        elif action == 3:\n",
        "            if self.y == 2:\n",
        "                self.y = self.y + 1\n",
        "            else:\n",
        "                self.y = self.y - 1\n",
        "        else:\n",
        "            RuntimeError('Error: action not recognized')\n",
        "\n",
        "        self.t = self.t + 1\n",
        "        \n",
        "        reward = 0\n",
        "        # Exploration malus\n",
        "        if train:\n",
        "            reward = -self.malus_position[self.x, self.y] # Punish the agent if the state was visited before\n",
        "        self.malus_position[self.x, self.y] = 0.1 # Mark the current state as visited\n",
        "        # Normal bonus\n",
        "        reward = reward + self.board[self.x, self.y]\n",
        "        \n",
        "        self.board[self.x, self.y] = 0\n",
        "        game_over = self.t > self.max_time\n",
        "        state = np.concatenate((self.malus_position.reshape(self.grid_size, self.grid_size,1),\n",
        "                                self.board.reshape(self.grid_size, self.grid_size,1),\n",
        "                        self.position.reshape(self.grid_size, self.grid_size,1)),axis=2)\n",
        "        state = state[self.x-2:self.x+3,self.y-2:self.y+3,:]\n",
        "        \n",
        "        return state, reward, game_over\n",
        "\n",
        "    def reset(self):\n",
        "        \"\"\"This function resets the game and returns the initial state\"\"\"\n",
        "\n",
        "        self.x = np.random.randint(3, self.grid_size-3, size=1)[0]\n",
        "        self.y = np.random.randint(3, self.grid_size-3, size=1)[0]\n",
        "\n",
        "\n",
        "        bonus = 0.5*np.random.binomial(1,self.temperature,size=self.grid_size**2)\n",
        "        bonus = bonus.reshape(self.grid_size,self.grid_size)\n",
        "\n",
        "        malus = -1.0*np.random.binomial(1,self.temperature,size=self.grid_size**2)\n",
        "        malus = malus.reshape(self.grid_size, self.grid_size)\n",
        "\n",
        "        self.to_draw = np.zeros((self.max_time+2, self.grid_size*self.scale, self.grid_size*self.scale, 3))\n",
        "\n",
        "\n",
        "        malus[bonus>0]=0\n",
        "\n",
        "        self.board = bonus + malus\n",
        "\n",
        "        self.position = np.zeros((self.grid_size, self.grid_size))\n",
        "        self.position[0:2,:]= -1\n",
        "        self.position[:,0:2] = -1\n",
        "        self.position[-2:, :] = -1\n",
        "        self.position[-2:, :] = -1\n",
        "        self.board[self.x,self.y] = 0\n",
        "        self.t = 0\n",
        "\n",
        "        # The state now includes wether the surrounding states were visited before\n",
        "        # 3 \"feature\" states instead of 2\n",
        "        state = np.concatenate((self.malus_position.reshape(self.grid_size, self.grid_size,1),\n",
        "                                self.board.reshape(self.grid_size, self.grid_size,1),\n",
        "                        self.position.reshape(self.grid_size, self.grid_size,1)),axis=2)\n",
        "    \n",
        "        state = state[self.x - 2:self.x + 3, self.y - 2:self.y + 3, :]\n",
        "        return state\n",
        "    \n",
        "### use those samples of code:\n",
        "##In train explore:\n",
        "#state, reward, game_over = env.act(action, train=True)\n",
        "#\n",
        "### In Environment exploring:\n",
        "## You will have to change n_state to 3 because you will use one more layer!\n",
        "#reward = 0\n",
        "#if train:\n",
        "#    reward = -self.malus_position[self.x, self.y]\n",
        "#self.malus_position[self.x, self.y] = 0.1\n",
        "#\n",
        "#reward = reward + self.board[self.x, self.y]\n",
        "# 3 \"feature\" states instead of 2\n",
        "#state = np.concatenate((self.malus_position.reshape(self.grid_size, self.grid_size,1),\n",
        "#                                self.board.reshape(self.grid_size, self.grid_size,1),\n",
        "#                        self.position.reshape(self.grid_size, self.grid_size,1)),axis=2)"
      ],
      "execution_count": 0,
      "outputs": []
    },
    {
      "cell_type": "code",
      "metadata": {
        "id": "3yvJKbwpvoJn",
        "colab_type": "code",
        "colab": {
          "base_uri": "https://localhost:8080/",
          "height": 853
        },
        "outputId": "68f532fe-6192-4aee-864c-76eb378ecf01"
      },
      "source": [
        "# Training\n",
        "env = EnvironmentExploring(grid_size=size, max_time=T, temperature=0.3)\n",
        "agent = DQN_CNN(size, lr=.1, epsilon = 0.1, memory_size=2000, batch_size = 32,n_state=3)\n",
        "train_explore(agent, env, epochs_train, prefix='cnn_train_explore')\n",
        "HTML(display_videos('cnn_train_explore10.mp4'))"
      ],
      "execution_count": 85,
      "outputs": [
        {
          "output_type": "stream",
          "text": [
            "Epoch 001/040 | Loss 0.0023 | Win/lose count 6.0/21.3 (-15.3)\n",
            "Epoch 002/040 | Loss 0.0015 | Win/lose count 3.7/20.4 (-16.7)\n",
            "Epoch 003/040 | Loss 0.0079 | Win/lose count 3.5/20.3 (-16.8)\n",
            "Epoch 004/040 | Loss 0.0037 | Win/lose count 3.8/21.7 (-17.9)\n",
            "Epoch 005/040 | Loss 0.0010 | Win/lose count 7.6/22.7 (-15.1)\n",
            "Epoch 006/040 | Loss 0.0069 | Win/lose count 9.6/20.6 (-11.0)\n",
            "Epoch 007/040 | Loss 0.0351 | Win/lose count 2.9/22.2 (-19.3)\n",
            "Epoch 008/040 | Loss 0.0038 | Win/lose count 5.8/22.6 (-16.8)\n",
            "Epoch 009/040 | Loss 0.0233 | Win/lose count 6.1/19.5 (-13.4)\n",
            "Epoch 010/040 | Loss 0.0039 | Win/lose count 3.3/22.1 (-18.8)\n",
            "Epoch 011/040 | Loss 0.0304 | Win/lose count 2.8/20.4 (-17.6)\n",
            "Epoch 012/040 | Loss 0.0156 | Win/lose count 6.8/18.1 (-11.3)\n",
            "Epoch 013/040 | Loss 0.0041 | Win/lose count 8.0/21.1 (-13.1)\n",
            "Epoch 014/040 | Loss 0.0036 | Win/lose count 8.1/19.9 (-11.8)\n",
            "Epoch 015/040 | Loss 0.0089 | Win/lose count 8.9/19.7 (-10.8)\n",
            "Epoch 016/040 | Loss 0.0045 | Win/lose count 12.5/18.8 (-6.3)\n",
            "Epoch 017/040 | Loss 0.0072 | Win/lose count 10.0/21.4 (-11.4)\n",
            "Epoch 018/040 | Loss 0.0044 | Win/lose count 6.8/20.4 (-13.6)\n",
            "Epoch 019/040 | Loss 0.0071 | Win/lose count 6.6/20.0 (-13.4)\n",
            "Epoch 020/040 | Loss 0.0083 | Win/lose count 2.5/20.4 (-17.9)\n",
            "Epoch 021/040 | Loss 0.0038 | Win/lose count 3.7/21.1 (-17.4)\n",
            "Epoch 022/040 | Loss 0.0095 | Win/lose count 12.1/21.9 (-9.8)\n",
            "Epoch 023/040 | Loss 0.0074 | Win/lose count 11.3/20.2 (-8.9)\n",
            "Epoch 024/040 | Loss 0.0040 | Win/lose count 12.2/21.0 (-8.8)\n",
            "Epoch 025/040 | Loss 0.0042 | Win/lose count 10.2/22.4 (-12.2)\n",
            "Epoch 026/040 | Loss 0.0077 | Win/lose count 12.0/16.8 (-4.8)\n",
            "Epoch 027/040 | Loss 0.0064 | Win/lose count 18.4/19.5 (-1.1)\n",
            "Epoch 028/040 | Loss 0.0052 | Win/lose count 14.8/21.4 (-6.6)\n",
            "Epoch 029/040 | Loss 0.0159 | Win/lose count 11.2/19.3 (-8.1)\n",
            "Epoch 030/040 | Loss 0.0159 | Win/lose count 11.2/19.3 (-8.1)\n",
            "Epoch 031/040 | Loss 0.0260 | Win/lose count 19.2/18.3 (0.9)\n",
            "Epoch 032/040 | Loss 0.0108 | Win/lose count 15.6/20.2 (-4.6)\n",
            "Epoch 033/040 | Loss 0.0186 | Win/lose count 18.4/21.5 (-3.1)\n",
            "Epoch 034/040 | Loss 0.0128 | Win/lose count 16.8/17.9 (-1.1)\n",
            "Epoch 035/040 | Loss 0.0214 | Win/lose count 13.6/20.7 (-7.1)\n",
            "Epoch 036/040 | Loss 0.0167 | Win/lose count 19.6/23.2 (-3.6)\n",
            "Epoch 037/040 | Loss 0.0333 | Win/lose count 9.2/20.8 (-11.6)\n",
            "Epoch 038/040 | Loss 0.0154 | Win/lose count 15.2/19.3 (-4.1)\n",
            "Epoch 039/040 | Loss 0.0159 | Win/lose count 12.8/16.9 (-4.1)\n",
            "Epoch 040/040 | Loss 0.0307 | Win/lose count 16.8/18.9 (-2.1)\n"
          ],
          "name": "stdout"
        },
        {
          "output_type": "execute_result",
          "data": {
            "text/html": [
              "<video alt=\"test\" controls>\n",
              "                <source src=\"data:video/mp4;base64,AAAAIGZ0eXBpc29tAAACAGlzb21pc28yYXZjMW1wNDEAAAAIZnJlZQAAFpxtZGF0AAACrQYF//+p3EXpvebZSLeWLNgg2SPu73gyNjQgLSBjb3JlIDE1MiByMjg1NCBlOWE1OTAzIC0gSC4yNjQvTVBFRy00IEFWQyBjb2RlYyAtIENvcHlsZWZ0IDIwMDMtMjAxNyAtIGh0dHA6Ly93d3cudmlkZW9sYW4ub3JnL3gyNjQuaHRtbCAtIG9wdGlvbnM6IGNhYmFjPTEgcmVmPTMgZGVibG9jaz0xOjA6MCBhbmFseXNlPTB4MToweDExMSBtZT1oZXggc3VibWU9NyBwc3k9MSBwc3lfcmQ9MS4wMDowLjAwIG1peGVkX3JlZj0xIG1lX3JhbmdlPTE2IGNocm9tYV9tZT0xIHRyZWxsaXM9MSA4eDhkY3Q9MCBjcW09MCBkZWFkem9uZT0yMSwxMSBmYXN0X3Bza2lwPTEgY2hyb21hX3FwX29mZnNldD00IHRocmVhZHM9MyBsb29rYWhlYWRfdGhyZWFkcz0xIHNsaWNlZF90aHJlYWRzPTAgbnI9MCBkZWNpbWF0ZT0xIGludGVybGFjZWQ9MCBibHVyYXlfY29tcGF0PTAgY29uc3RyYWluZWRfaW50cmE9MCBiZnJhbWVzPTMgYl9weXJhbWlkPTIgYl9hZGFwdD0xIGJfYmlhcz0wIGRpcmVjdD0xIHdlaWdodGI9MSBvcGVuX2dvcD0wIHdlaWdodHA9MiBrZXlpbnQ9MjUwIGtleWludF9taW49MjUgc2NlbmVjdXQ9NDAgaW50cmFfcmVmcmVzaD0wIHJjX2xvb2thaGVhZD00MCByYz1jcmYgbWJ0cmVlPTEgY3JmPTIzLjAgcWNvbXA9MC42MCBxcG1pbj0wIHFwbWF4PTY5IHFwc3RlcD00IGlwX3JhdGlvPTEuNDAgYXE9MToxLjAwAIAAAALwZYiEADf//vaH+BTZWBP+Wb/9DX/cj9uPrP1xYyEE31qvIejAGS+1H+b/rFFs6Z6UB/fgCJQAc24ZwpHZJ46i9VkGOD4FNXSdXwKShQPrGP6KGhSGWtNPi0UOdui7PwogxS5oBZgFQifZ3Ao3cJfVx1ky9mEO0CGb/DYNMKSiAjvx/kRL/BfEyyA+Aowp0Q0ooEeO7Zb2/56zkMDtfwQ/+YhMlWmVMlq3vQznw+54WSQpysSaGTTV8j40QQNNsKqMp4xEtVLl7+s4lpwM+pg3jM0yAPY2jfkTUUVLrcIN5lG3qQcbgta7iamZDSLaIkv5cSuSWMYcTDrz1kJQVFKLsGl4Rwurye4+9AlOTneSYZa0a6Y/4glgxv5ig238GYlloIJoRuyvv88xP7WuGWvkJJGbzLJ5flyzF1BvhOpROH/ZBj8w8qEK+TLKcf19vzFXztG31ZJMUdM/HDj2MosD4R5lkifmMl6P5hsotqUFHuedw1CPABiJvyAQ+63Z3L832lUBXQUWFDGSfHwGDLlQMF+ktxMGgrQ8WZUlFvyUm1MhuCCUwMzsKtSducqlN5wcGG3TE8PgZCr2Da8Y6DqTc1ERftFLyvsdK19B4QrMVZFj5nXyspXVuSYhhACJwRYVbrMD+cXDBssYaLspAgbSczUkYz8bITFJE44HmCB+u6ZiDwrCXnS4ATpkQ9y6vPnSCMmNoUuyJShFZbUEhmvG4Y3uwABZxF6HHsxtwZ5LHPEQ3xEFyCZiG7atJKje+8+XGjrmvV0uluDoZY/lKdzpYVCy+ZVBMTg87MYf7pvsKf/dkUWx1IYfHKg/RKaKAZg1xnTP6uvEy2+h1VR07clFSN86c+28/jpKwQkCHE9R87yqXltiAxMGmSV2MzWU+5t0UzB3xcjKKuABFrNkcSLhJAyBvV5E3C5dsKZVDJHi4PZPlMACNjGOih1GHRW78fwLdGIBku/rnZg5fZgim7CktKtzNtVyYFXaBmgRIKIADpkAAAAUQZohbEN//qeEAJ665oojrlNKR8AAAAAXQZpEPCGTKYQz//6eEAJqkXfzJV9+oC8AAAARQZ5ialPCvwB/Gd9Y/Bfm58AAAAAOAZ6DakK/AH8Z4tn6lpsAAAAZQZqFSahBaJlMCG///qeEAPGcZ/qUgFS/wQAAABlBmqZJ4QpSZTAhv/6nhAGOCCza8Lcud3dBAAAAH0GayEnhDomUwU0TDv/+qZYCMdmOFqFkJNp+d/Do2YEAAAAQAZ7nakK/Ad6F70iY1mWHgAAAAB9BmuxJ4Q8mUwId//6plgIB2qgx/2qP1pgdQg3DCsqAAAAAEEGfCkURPC//AVtUm/CyyXkAAAAPAZ8pdEK/AdHnQGSXKMqAAAAAEAGfK2pCvwHRsv1R9A+AeMAAAAAZQZsvSahBaJlMCG///qeEAX8+Y8jE/xtxtQAAABJBn01FESwr/wHGfgdFLSWDJF0AAAAQAZ9uakK/AdIPBrjxVtGwYQAAABlBm3JJqEFsmUwIb//+p4QBjcZjyMT/G3GrAAAAD0GfkEUVLCv/ATaTcNZqQAAAAA8Bn7FqQr8B3u0OhSNmUMEAAAAZQZu1SahBbJlMCG///qeEAZ2K0ghE/xtxoQAAAA9Bn9NFFSwr/wE/a3DWZ8AAAAAOAZ/0akK/ATuyjkQho+cAAAAUQZv3SahBbJlMFEw7//6plgAAlYAAAAAPAZ4WakK/ATuyjdZ6s9HzAAAAEUGaG0nhClJlMCG//qeEAAEnAAAAFEGeOUU0TC//AWT1yxm3Cbc/2SVMAAAAEAGeWHRCvwHfRLuOxZifDUkAAAAQAZ5aakK/Ad63Bh9ASDSP8AAAABlBml5JqEFomUwIb//+p4QBoe6nH+H1W3GhAAAAD0GefEURLCv/AT9rcNZnwQAAAA8Bnp1qQr8B3u0OhSNmUMAAAAAdQZqASahBbJlMFEw3//6nhAGR8dPtFGFsxQjjq2gAAAAQAZ6/akK/ATaT5zrQwvDxwQAAABlBmqFJ4QpSZTAhv/6nhADtewf4Tgt0JGBAAAAAGUGawknhDomUwId//qmWAE5+PP37INxT/zEAAAAWQZrmSeEPJlMCHf/+qZYAMZ7S/q3UwAAAAA5BnwRFETwv/wA5/7fXoQAAAA8BnyN0Qr8AUOyjiOy7Kx8AAAAPAZ8lakK/AFDso3WerPXpAAAAE0GbKkmoQWiZTAh3//6plgAAlYEAAAAMQZ9IRREsL/8AALKAAAAADwGfZ3RCvwBQ7KOI7LsrHwAAAA8Bn2lqQr8AUOyjdZ6s9ekAAAAXQZtuSahBbJlMCG///qeEAD+++z7XakAAAAAVQZ+MRRUsL/8AOs1f2tcWPosrzvCAAAAAEAGfq3RCvwBR01oyS3+t/MEAAAAQAZ+takK/AFHseW4bNqbwgQAAABpBm69JqEFsmUwId//+qZYAM9BZXGaX9sBCwQAAABdBm9JJ4QpSZTAh3/6plgA0HtLxtMsBCwAAABJBn/BFNEwr/wBUGwBAKYByMkAAAAAQAZ4RakK/AFHsiE3GfXpyCQAAABNBmhZJqEFomUwId//+qZYAAJWAAAAADEGeNEURLC//AACygAAAAA8BnlN0Qr8AUOyjiOy7Kx8AAAAPAZ5VakK/AFDso3WerPXpAAAAE0GaWkmoQWyZTAh3//6plgAAlYEAAAAMQZ54RRUsL/8AALKBAAAAEAGel3RCvwBQ7KO/AB9u48AAAAAQAZ6ZakK/AHxNQ5/mW7+nwQAAABNBmp5JqEFsmUwId//+qZYAAJWAAAAADEGevEUVLC//AACygQAAAA8Bntt0Qr8AUOyjiOy7Kx8AAAAPAZ7dakK/AFDso3WerPXpAAAAE0GawkmoQWyZTAh3//6plgAAlYAAAAAUQZ7gRRUsL/8AOs1f4mxa/M4qGMkAAAAPAZ8fdEK/AFHTlCk2yVVJAAAAEAGfAWpCvwBR7HluGzam8IEAAAATQZsGSahBbJlMCHf//qmWAACVgAAAABBBnyRFFSwv/wA7cS2b9HzVAAAADwGfQ3RCvwBR05QpNslVSQAAABABn0VqQr8AUex5bhs2pvCBAAAAE0GbSkmoQWyZTAh3//6plgAAlYEAAAAQQZ9oRRUsL/8AO3Etm/R81QAAAA8Bn4d0Qr8AUdOUKTbJVUkAAAAQAZ+JakK/AFHseW4bNqbwgQAAABNBm45JqEFsmUwId//+qZYAAJWAAAAADEGfrEUVLC//AACygAAAAA8Bn8t0Qr8AUOyjiOy7Kx8AAAAPAZ/NakK/AFDso3WerPXpAAAAE0Gb0kmoQWyZTAh3//6plgAAlYEAAAAMQZ/wRRUsL/8AALKAAAAADwGeD3RCvwBQ7KOI7LsrHwAAAA8BnhFqQr8AUOyjdZ6s9ekAAAATQZoWSahBbJlMCHf//qmWAACVgAAAAAxBnjRFFSwv/wAAsoAAAAAPAZ5TdEK/AFDso4jsuysfAAAADwGeVWpCvwBQ7KN1nqz16QAAABNBmlpJqEFsmUwId//+qZYAAJWBAAAADEGeeEUVLC//AACygQAAAA8Bnpd0Qr8AUOyjiOy7Kx8AAAAPAZ6ZakK/AFDso3WerPXpAAAAEkGankmoQWyZTAhv//6nhAABJwAAABRBnrxFFSwv/wA6zV/ibFr8zioYyQAAAA8Bntt0Qr8AUdOUKTbJVUkAAAAQAZ7dakK/AFHseW4bNqbwgAAAABpBmt9JqEFsmUwId//+qZYAM9BZXGaX9sBCwAAAABJBmuNJ4QpSZTAh3/6plgAAlYEAAAASQZ8BRTRML/8APNEtnAVyGhh4AAAADwGfIHRCvwBUE5QpNslVQQAAABABnyJqQr8AVCwjyYHr2/SAAAAAGkGbJkmoQWiZTAh3//6plgA0HtLwtQT+wELBAAAAEkGfREURLCv/AFQbAEApgHIyQQAAABABn2VqQr8AUeyITcZ9enIJAAAAE0GbakmoQWyZTAh3//6plgAAlYEAAAAMQZ+IRRUsL/8AALKAAAAADwGfp3RCvwBQ7KOI7LsrHwAAAA8Bn6lqQr8AUOyjdZ6s9ekAAAATQZuuSahBbJlMCHf//qmWAACVgAAAAAxBn8xFFSwv/wAAsoAAAAAPAZ/rdEK/AFDso4jsuysfAAAADwGf7WpCvwBQ7KN1nqz16QAAABNBm/JJqEFsmUwId//+qZYAAJWBAAAADEGeEEUVLC//AACygAAAAA8Bni90Qr8AUOyjiOy7Kx8AAAAQAZ4xakK/AHxNQ5/mW7+nwQAAABNBmjZJqEFsmUwId//+qZYAAJWAAAAADEGeVEUVLC//AACygAAAAA8BnnN0Qr8AUOyjiOy7Kx8AAAAPAZ51akK/AFDso3WerPXpAAAAE0GaekmoQWyZTAh3//6plgAAlYEAAAAMQZ6YRRUsL/8AALKBAAAAEAGet3RCvwB8bFYvP4HJF8AAAAAPAZ65akK/AFDso3WerPXpAAAAE0GavkmoQWyZTAh3//6plgAAlYAAAAAMQZ7cRRUsL/8AALKBAAAADwGe+3RCvwBQ7KOI7LsrHwAAAA8Bnv1qQr8AUOyjdZ6s9ekAAAATQZriSahBbJlMCHf//qmWAACVgAAAAAxBnwBFFSwv/wAAsoEAAAAPAZ8/dEK/AFDso4jsuysfAAAADwGfIWpCvwBQ7KN1nqz16QAAABNBmyZJqEFsmUwId//+qZYAAJWAAAAADEGfREUVLC//AACygQAAAA8Bn2N0Qr8AUOyjiOy7Kx8AAAAQAZ9lakK/AHxNQ5/mW7+nwQAAABxBm2pJqEFsmUwId//+qZYAMt7S/r+q1CyFLnxPAAAAEEGfiEUVLC//ADtp07/N5qgAAAAPAZ+ndEK/AFHjCAyS5Y+AAAAADwGfqWpCvwBR226UaQ8T4QAAABpBm6xJqEFsmUwUTDv//qmWADKXOj/faX3PZQAAABABn8tqQr8AUewjyYHr2/mAAAAAEkGb0EnhClJlMCHf/qmWAACVgQAAAAxBn+5FNEwv/wAAsoEAAAAQAZ4NdEK/AHxsVi8/gckXwQAAAA8Bng9qQr8AUOyjdZ6s9ekAAAATQZoUSahBaJlMCHf//qmWAACVgAAAAAxBnjJFESwv/wAAsoEAAAAPAZ5RdEK/AFDso4jsuysfAAAAEAGeU2pCvwB8TUOf5lu/p8AAAAASQZpYSahBbJlMCG///qeEAAEnAAAADEGedkUVLC//AACygAAAAA8BnpV0Qr8AUOyjiOy7Kx8AAAAPAZ6XakK/AFDso3WerPXpAAAAGkGam0moQWyZTAhv//6nhABk/YP8JwW6EnHAAAAAEkGeuUUVLCv/AHxfgdCTdau6QQAAAA4BntpqQr8AfEIFnfhWrgAAABpBmtxJqEFsmUwIb//+p4QAP77B/hOC3QlZQQAAABlBmv1J4QpSZTAh3/6plgAVT31fXYg3FRUxAAAAG0GbAUnhDomUwIb//qeEABsfYP85Trwo1uZCeAAAABBBnz9FETwv/wAP3/D11lXAAAAADwGfXnRCvwAWJOUKTbJWLwAAAA8Bn0BqQr8ADic4bA5T74AAAAAcQZtDSahBaJlMFPDf/qeEABDvjp91pZmpt0W7CQAAABABn2JqQr8ADiq4NceKtr2gAAAAGUGbZEnhClJlMCHf/qmWAAW/31fXYg3FWTEAAAAhQZuISeEOiZTAh3/+qZYAA6ntL9nm7r6gH9clnKDcW9FBAAAAEUGfpkURPC//AARWe+2/vNPhAAAADwGfxXRCvwAF+APik2yWWQAAABABn8dqQr8ABdI2u6yGHQFAAAAAE0GbzEmoQWiZTAh3//6plgAAlYAAAAARQZ/qRREsL/8ABFeM+Ti53s8AAAAQAZ4JdEK/AAX6RZV4EV6JgAAAAA8BngtqQr8ABfiWlSKBLLIAAAATQZoQSahBbJlMCHf//qmWAACVgQAAABBBni5FFSwv/wAEV9BBU2ZPAAAAEAGeTXRCvwAF+kWVeBFeiYEAAAAPAZ5PakK/AAX4lpUigSyyAAAAE0GaVEmoQWyZTAh3//6plgAAlYAAAAAQQZ5yRRUsL/8ABFfQQVNmTwAAABABnpF0Qr8ABfpFlXgRXomAAAAADwGek2pCvwAF+JaVIoEssgAAABxBmphJqEFsmUwIb//+p4QABJvjp91pZmpt0Xj5AAAAEkGetkUVLC//AARX0EE82I6K/AAAABABntV0Qr8ABfpFlXgRXomBAAAAEAGe12pCvwAF+JbTrwBQnoEAAAAaQZraSahBbJlMFEw7//6plgACUL9209GP1BkAAAAQAZ75akK/AAO2z5jdDkhAuQAAABFBmv5J4QpSZTAhv/6nhAABJwAAAAxBnxxFNEwv/wAAsoEAAAAQAZ87dEK/AAXToBz+tA6AoQAAABABnz1qQr8ABdI2u6yGHQFAAAAAHEGbIkmoQWiZTAhv//6nhAAEm+On3Wlmam3RePgAAAAUQZ9ARREsL/8ABFbbtm6mcUETmyEAAAAQAZ9/dEK/AAX6RZV4EV6JgAAAABABn2FqQr8ABfiW068AUJ6BAAAAGkGbZEmoQWyZTBRMN//+p4QABJVtLteOn24+AAAAEAGfg2pCvwADts+Y3Q5IQLkAAAAYQZuISeEKUmUwIX/+jLAAHHW8/++dPieZAAAAEEGfpkU0TC//AARXP2bgknEAAAAPAZ/FdEK/AAXToB0JybChAAAAEAGfx2pCvwAF+dU8mB6+iYAAAAAaQZvJS6hCEFokRggoB/IB/YeAIV/+OEAAEXAAAAwobW9vdgAAAGxtdmhkAAAAAAAAAAAAAAAAAAAD6AAAH5AAAQAAAQAAAAAAAAAAAAAAAAEAAAAAAAAAAAAAAAAAAAABAAAAAAAAAAAAAAAAAABAAAAAAAAAAAAAAAAAAAAAAAAAAAAAAAAAAAAAAAAAAgAAC1J0cmFrAAAAXHRraGQAAAADAAAAAAAAAAAAAAABAAAAAAAAH5AAAAAAAAAAAAAAAAAAAAAAAAEAAAAAAAAAAAAAAAAAAAABAAAAAAAAAAAAAAAAAABAAAAAARAAAAEQAAAAAAAkZWR0cwAAABxlbHN0AAAAAAAAAAEAAB+QAAAEAAABAAAAAArKbWRpYQAAACBtZGhkAAAAAAAAAAAAAAAAAAAyAAABlABVxAAAAAAALWhkbHIAAAAAAAAAAHZpZGUAAAAAAAAAAAAAAABWaWRlb0hhbmRsZXIAAAAKdW1pbmYAAAAUdm1oZAAAAAEAAAAAAAAAAAAAACRkaW5mAAAAHGRyZWYAAAAAAAAAAQAAAAx1cmwgAAAAAQAACjVzdGJsAAAAlXN0c2QAAAAAAAAAAQAAAIVhdmMxAAAAAAAAAAEAAAAAAAAAAAAAAAAAAAAAARABEABIAAAASAAAAAAAAAABAAAAAAAAAAAAAAAAAAAAAAAAAAAAAAAAAAAAAAAAAAAAGP//AAAAL2F2Y0MB9AAN/+EAF2f0AA2RmygiEdCAAAADAIAAABkHihTLAQAFaOvjxEgAAAAYc3R0cwAAAAAAAAABAAAAygAAAgAAAAAUc3RzcwAAAAAAAAABAAAAAQAABgBjdHRzAAAAAAAAAL4AAAACAAAEAAAAAAEAAAgAAAAAAgAAAgAAAAACAAAEAAAAAAEAAAYAAAAAAQAAAgAAAAABAAAKAAAAAAEAAAQAAAAAAQAAAAAAAAABAAACAAAAAAEAAAgAAAAAAgAAAgAAAAABAAAIAAAAAAIAAAIAAAAAAQAACAAAAAACAAACAAAAAAEAAAYAAAAAAQAAAgAAAAABAAAKAAAAAAEAAAQAAAAAAQAAAAAAAAABAAACAAAAAAEAAAgAAAAAAgAAAgAAAAABAAAGAAAAAAEAAAIAAAAAAgAABAAAAAABAAAKAAAAAAEAAAQAAAAAAQAAAAAAAAABAAACAAAAAAEAAAoAAAAAAQAABAAAAAABAAAAAAAAAAEAAAIAAAAAAQAACgAAAAABAAAEAAAAAAEAAAAAAAAAAQAAAgAAAAABAAAEAAAAAAEAAAgAAAAAAgAAAgAAAAABAAAKAAAAAAEAAAQAAAAAAQAAAAAAAAABAAACAAAAAAEAAAoAAAAAAQAABAAAAAABAAAAAAAAAAEAAAIAAAAAAQAACgAAAAABAAAEAAAAAAEAAAAAAAAAAQAAAgAAAAABAAAKAAAAAAEAAAQAAAAAAQAAAAAAAAABAAACAAAAAAEAAAoAAAAAAQAABAAAAAABAAAAAAAAAAEAAAIAAAAAAQAACgAAAAABAAAEAAAAAAEAAAAAAAAAAQAAAgAAAAABAAAKAAAAAAEAAAQAAAAAAQAAAAAAAAABAAACAAAAAAEAAAoAAAAAAQAABAAAAAABAAAAAAAAAAEAAAIAAAAAAQAACgAAAAABAAAEAAAAAAEAAAAAAAAAAQAAAgAAAAABAAAKAAAAAAEAAAQAAAAAAQAAAAAAAAABAAACAAAAAAEAAAoAAAAAAQAABAAAAAABAAAAAAAAAAEAAAIAAAAAAQAABAAAAAABAAAKAAAAAAEAAAQAAAAAAQAAAAAAAAABAAACAAAAAAEAAAgAAAAAAgAAAgAAAAABAAAKAAAAAAEAAAQAAAAAAQAAAAAAAAABAAACAAAAAAEAAAoAAAAAAQAABAAAAAABAAAAAAAAAAEAAAIAAAAAAQAACgAAAAABAAAEAAAAAAEAAAAAAAAAAQAAAgAAAAABAAAKAAAAAAEAAAQAAAAAAQAAAAAAAAABAAACAAAAAAEAAAoAAAAAAQAABAAAAAABAAAAAAAAAAEAAAIAAAAAAQAACgAAAAABAAAEAAAAAAEAAAAAAAAAAQAAAgAAAAABAAAKAAAAAAEAAAQAAAAAAQAAAAAAAAABAAACAAAAAAEAAAoAAAAAAQAABAAAAAABAAAAAAAAAAEAAAIAAAAAAQAACgAAAAABAAAEAAAAAAEAAAAAAAAAAQAAAgAAAAABAAAGAAAAAAEAAAIAAAAAAQAACgAAAAABAAAEAAAAAAEAAAAAAAAAAQAAAgAAAAABAAAKAAAAAAEAAAQAAAAAAQAAAAAAAAABAAACAAAAAAEAAAoAAAAAAQAABAAAAAABAAAAAAAAAAEAAAIAAAAAAQAACAAAAAACAAACAAAAAAIAAAQAAAAAAQAACgAAAAABAAAEAAAAAAEAAAAAAAAAAQAAAgAAAAABAAAGAAAAAAEAAAIAAAAAAQAABAAAAAABAAAKAAAAAAEAAAQAAAAAAQAAAAAAAAABAAACAAAAAAEAAAoAAAAAAQAABAAAAAABAAAAAAAAAAEAAAIAAAAAAQAACgAAAAABAAAEAAAAAAEAAAAAAAAAAQAAAgAAAAABAAAKAAAAAAEAAAQAAAAAAQAAAAAAAAABAAACAAAAAAEAAAoAAAAAAQAABAAAAAABAAAAAAAAAAEAAAIAAAAAAQAABgAAAAABAAACAAAAAAEAAAoAAAAAAQAABAAAAAABAAAAAAAAAAEAAAIAAAAAAQAACgAAAAABAAAEAAAAAAEAAAAAAAAAAQAAAgAAAAABAAAGAAAAAAEAAAIAAAAAAQAACgAAAAABAAAEAAAAAAEAAAAAAAAAAQAAAgAAAAABAAAEAAAAABxzdHNjAAAAAAAAAAEAAAABAAAAygAAAAEAAAM8c3RzegAAAAAAAAAAAAAAygAABaUAAAAYAAAAGwAAABUAAAASAAAAHQAAAB0AAAAjAAAAFAAAACMAAAAUAAAAEwAAABQAAAAdAAAAFgAAABQAAAAdAAAAEwAAABMAAAAdAAAAEwAAABIAAAAYAAAAEwAAABUAAAAYAAAAFAAAABQAAAAdAAAAEwAAABMAAAAhAAAAFAAAAB0AAAAdAAAAGgAAABIAAAATAAAAEwAAABcAAAAQAAAAEwAAABMAAAAbAAAAGQAAABQAAAAUAAAAHgAAABsAAAAWAAAAFAAAABcAAAAQAAAAEwAAABMAAAAXAAAAEAAAABQAAAAUAAAAFwAAABAAAAATAAAAEwAAABcAAAAYAAAAEwAAABQAAAAXAAAAFAAAABMAAAAUAAAAFwAAABQAAAATAAAAFAAAABcAAAAQAAAAEwAAABMAAAAXAAAAEAAAABMAAAATAAAAFwAAABAAAAATAAAAEwAAABcAAAAQAAAAEwAAABMAAAAWAAAAGAAAABMAAAAUAAAAHgAAABYAAAAWAAAAEwAAABQAAAAeAAAAFgAAABQAAAAXAAAAEAAAABMAAAATAAAAFwAAABAAAAATAAAAEwAAABcAAAAQAAAAEwAAABQAAAAXAAAAEAAAABMAAAATAAAAFwAAABAAAAAUAAAAEwAAABcAAAAQAAAAEwAAABMAAAAXAAAAEAAAABMAAAATAAAAFwAAABAAAAATAAAAFAAAACAAAAAUAAAAEwAAABMAAAAeAAAAFAAAABYAAAAQAAAAFAAAABMAAAAXAAAAEAAAABMAAAAUAAAAFgAAABAAAAATAAAAEwAAAB4AAAAWAAAAEgAAAB4AAAAdAAAAHwAAABQAAAATAAAAEwAAACAAAAAUAAAAHQAAACUAAAAVAAAAEwAAABQAAAAXAAAAFQAAABQAAAATAAAAFwAAABQAAAAUAAAAEwAAABcAAAAUAAAAFAAAABMAAAAgAAAAFgAAABQAAAAUAAAAHgAAABQAAAAVAAAAEAAAABQAAAAUAAAAIAAAABgAAAAUAAAAFAAAAB4AAAAUAAAAHAAAABQAAAATAAAAFAAAAB4AAAAUc3RjbwAAAAAAAAABAAAAMAAAAGJ1ZHRhAAAAWm1ldGEAAAAAAAAAIWhkbHIAAAAAAAAAAG1kaXJhcHBsAAAAAAAAAAAAAAAALWlsc3QAAAAlqXRvbwAAAB1kYXRhAAAAAQAAAABMYXZmNTcuODMuMTAw\" type=\"video/mp4\" />\n",
              "             </video>"
            ],
            "text/plain": [
              "<IPython.core.display.HTML object>"
            ]
          },
          "metadata": {
            "tags": []
          },
          "execution_count": 85
        }
      ]
    },
    {
      "cell_type": "code",
      "metadata": {
        "id": "hEbPvyh0voJp",
        "colab_type": "code",
        "colab": {
          "base_uri": "https://localhost:8080/",
          "height": 373
        },
        "outputId": "6a70ef1d-75a3-4a58-d56d-34d785d3a172"
      },
      "source": [
        "# Evaluation\n",
        "test(agent,env,epochs_test,prefix='cnn_test_explore')\n",
        "HTML(display_videos('cnn_test_explore0.mp4'))"
      ],
      "execution_count": 87,
      "outputs": [
        {
          "output_type": "stream",
          "text": [
            "Win/lose count 9.0/1.0. Average score (8.0)\n",
            "Win/lose count 13.5/0. Average score (10.75)\n",
            "Win/lose count 21.0/0. Average score (14.166666666666666)\n",
            "Win/lose count 12.0/1.0. Average score (13.375)\n",
            "Win/lose count 18.5/1.0. Average score (14.2)\n",
            "Win/lose count 12.0/1.0. Average score (13.666666666666666)\n",
            "Win/lose count 14.0/1.0. Average score (13.571428571428571)\n",
            "Win/lose count 7.0/0. Average score (12.75)\n",
            "Win/lose count 16.5/0. Average score (13.166666666666666)\n",
            "Win/lose count 8.5/0. Average score (12.7)\n",
            "Final score: 12.7\n"
          ],
          "name": "stdout"
        },
        {
          "output_type": "execute_result",
          "data": {
            "text/html": [
              "<video alt=\"test\" controls>\n",
              "                <source src=\"data:video/mp4;base64,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\" type=\"video/mp4\" />\n",
              "             </video>"
            ],
            "text/plain": [
              "<IPython.core.display.HTML object>"
            ]
          },
          "metadata": {
            "tags": []
          },
          "execution_count": 87
        }
      ]
    },
    {
      "cell_type": "markdown",
      "metadata": {
        "id": "pglUhSzXvoJs",
        "colab_type": "text"
      },
      "source": [
        "***\n",
        "***\n",
        "__BONUS question__ Use the expert DQN from the previous question to generate some winning games. Train a model that mimicks its behavior. Compare the performances."
      ]
    },
    {
      "cell_type": "markdown",
      "metadata": {
        "id": "sNpRtr8gvoJt",
        "colab_type": "text"
      },
      "source": [
        ""
      ]
    },
    {
      "cell_type": "markdown",
      "metadata": {
        "id": "xhkDtzOpvoJu",
        "colab_type": "text"
      },
      "source": [
        "***"
      ]
    }
  ]
}